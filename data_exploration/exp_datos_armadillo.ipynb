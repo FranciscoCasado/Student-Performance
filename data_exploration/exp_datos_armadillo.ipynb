{
  "nbformat": 4,
  "nbformat_minor": 0,
  "metadata": {
    "colab": {
      "name": "exp_datos_armadillo.ipynb",
      "provenance": []
    },
    "kernelspec": {
      "name": "python3",
      "display_name": "Python 3"
    },
    "language_info": {
      "name": "python"
    }
  },
  "cells": [
    {
      "cell_type": "markdown",
      "metadata": {
        "id": "4M7PpojWUGFi"
      },
      "source": [
        "# Exploración de datos Armadillo"
      ]
    },
    {
      "cell_type": "code",
      "metadata": {
        "id": "4lOlzFX3G4rF"
      },
      "source": [
        "import pandas as pd"
      ],
      "execution_count": 132,
      "outputs": []
    },
    {
      "cell_type": "markdown",
      "metadata": {
        "id": "yEXm1_VwcScD"
      },
      "source": [
        "## Load Data"
      ]
    },
    {
      "cell_type": "code",
      "metadata": {
        "colab": {
          "base_uri": "https://localhost:8080/"
        },
        "id": "z3YqydijK_j8",
        "outputId": "e3c57c48-8344-4af4-8b39-e25593351546"
      },
      "source": [
        "from google.colab import drive\n",
        "drive.mount('/content/drive')"
      ],
      "execution_count": 133,
      "outputs": [
        {
          "output_type": "stream",
          "text": [
            "Drive already mounted at /content/drive; to attempt to forcibly remount, call drive.mount(\"/content/drive\", force_remount=True).\n"
          ],
          "name": "stdout"
        }
      ]
    },
    {
      "cell_type": "code",
      "metadata": {
        "id": "3AsXCfBuL-58"
      },
      "source": [
        "path_2017 = \"/content/drive/My Drive/Taller_diseño_proyecto/data armadillo/2017-19-06.xlsx\"\n",
        "path_2018 = \"/content/drive/My Drive/Taller_diseño_proyecto/data armadillo/2018-19-06.xlsx\"\n",
        "path_2019 = \"/content/drive/My Drive/Taller_diseño_proyecto/data armadillo/2019-25-06.xlsx\"\n",
        "path_2020 = \"/content/drive/My Drive/Taller_diseño_proyecto/data armadillo/2020-15-07.xlsx\""
      ],
      "execution_count": 134,
      "outputs": []
    },
    {
      "cell_type": "code",
      "metadata": {
        "colab": {
          "base_uri": "https://localhost:8080/"
        },
        "id": "JvxpLRuMQmKN",
        "outputId": "ed83701e-2e94-4b64-d2ff-b89ab623ada0"
      },
      "source": [
        "df_2017 = pd.read_excel(path_2017)\n",
        "df_2017.dropna(inplace=True)\n",
        "df_2017.shape"
      ],
      "execution_count": 135,
      "outputs": [
        {
          "output_type": "execute_result",
          "data": {
            "text/plain": [
              "(727, 47)"
            ]
          },
          "metadata": {
            "tags": []
          },
          "execution_count": 135
        }
      ]
    },
    {
      "cell_type": "code",
      "metadata": {
        "colab": {
          "base_uri": "https://localhost:8080/"
        },
        "id": "AGKPbw8eRb6f",
        "outputId": "9be4137d-3245-4cf3-acf7-c7421c4ff98e"
      },
      "source": [
        "df_2018 = pd.read_excel(path_2018)\n",
        "df_2018.dropna(inplace=True)\n",
        "df_2018.shape"
      ],
      "execution_count": 136,
      "outputs": [
        {
          "output_type": "execute_result",
          "data": {
            "text/plain": [
              "(813, 11)"
            ]
          },
          "metadata": {
            "tags": []
          },
          "execution_count": 136
        }
      ]
    },
    {
      "cell_type": "code",
      "metadata": {
        "colab": {
          "base_uri": "https://localhost:8080/"
        },
        "id": "_CEg301NRhrc",
        "outputId": "fb5d0176-2926-4b64-cad6-d00cf5535c52"
      },
      "source": [
        "df_2019 = pd.read_excel(path_2019)\n",
        "# df_2019.dropna(inplace=True)\n",
        "df_2019.shape"
      ],
      "execution_count": 137,
      "outputs": [
        {
          "output_type": "execute_result",
          "data": {
            "text/plain": [
              "(884, 45)"
            ]
          },
          "metadata": {
            "tags": []
          },
          "execution_count": 137
        }
      ]
    },
    {
      "cell_type": "code",
      "metadata": {
        "colab": {
          "base_uri": "https://localhost:8080/"
        },
        "id": "qGa6-2EdRmji",
        "outputId": "beae2434-7912-4a5a-f05a-92b36e06a0d3"
      },
      "source": [
        "df_2020 = pd.read_excel(path_2020)\n",
        "# df_2020.dropna(inplace=True)\n",
        "df_2020.shape"
      ],
      "execution_count": 138,
      "outputs": [
        {
          "output_type": "execute_result",
          "data": {
            "text/plain": [
              "(890, 41)"
            ]
          },
          "metadata": {
            "tags": []
          },
          "execution_count": 138
        }
      ]
    },
    {
      "cell_type": "markdown",
      "metadata": {
        "id": "75yQz0obUNSG"
      },
      "source": [
        "Para poder subir esto se eliminan los datos identificadores únicos."
      ]
    },
    {
      "cell_type": "code",
      "metadata": {
        "id": "fMwoMgyBUTv5"
      },
      "source": [
        "df_2017.drop(columns=['Nombre', 'Rut'], inplace=True)\n",
        "df_2018.drop(columns=['NOMBRE', 'RUT'], inplace=True)\n",
        "df_2019.drop(columns=['NOMBRE', 'RUT'], inplace=True)\n",
        "df_2020.drop(columns=['NOMBRE', 'RUT'], inplace=True)"
      ],
      "execution_count": 139,
      "outputs": []
    },
    {
      "cell_type": "markdown",
      "metadata": {
        "id": "2tHDBNa5R5jm"
      },
      "source": [
        "Claramente hay un desbalance de que columnas en los distintos datasets, por lo que se debe ver qué columnas mantener."
      ]
    },
    {
      "cell_type": "code",
      "metadata": {
        "colab": {
          "base_uri": "https://localhost:8080/"
        },
        "id": "EWkT35keSakf",
        "outputId": "68c17913-5c81-4e3a-ca9c-b9c783d44192"
      },
      "source": [
        "print('columns in 2017:', df_2017.columns)\n",
        "print('columns in 2018:', df_2018.columns)\n",
        "print('columns in 2019:', df_2019.columns)\n",
        "print('columns in 2020:', df_2020.columns)"
      ],
      "execution_count": 140,
      "outputs": [
        {
          "output_type": "stream",
          "text": [
            "columns in 2017: Index(['P1', 'P2', 'P3', 'P4', 'P5', 'P6', 'P7', 'P8', 'P9', 'P10', 'P11',\n",
            "       'P12', 'P13', 'P14', 'P15', 'P16', 'P17', 'P18', 'P19', 'P20', 'P21',\n",
            "       'P22', 'P23', 'P24', 'P25', 'P26', 'P27', 'P28', 'P29', 'P30',\n",
            "       'Puntaje Total', 'Porcentaje Total', 'Nivel de Logro', 'Tipo Estab.',\n",
            "       'Establecimiento', 'NEM', 'Pje. Lenguaje', 'Tipo Ingreso', 'Región',\n",
            "       'Manejo de Conectores', 'Plan de Redacción', 'Recuperar', 'Analizar',\n",
            "       'Evaluar', 'Distribución'],\n",
            "      dtype='object')\n",
            "columns in 2018: Index(['Nº', 'RESPUESTAS CORRECTAS', 'PORCENTAJE DE LOGRO', 'NIVEL DE LOGRO',\n",
            "       'VIA DE INGRESO', 'TIPO DE ESTABLECIMIENTO', 'REGIÓN', 'PSU LENGUAJE',\n",
            "       'NEM'],\n",
            "      dtype='object')\n",
            "columns in 2019: Index(['Nº', 'P1', 'P2', 'P3', 'P4', 'P5', 'P6', 'P7', 'P8', 'P9', 'P10',\n",
            "       'P11', 'P12', 'P13', 'P14', 'P15', 'P16', 'P17', 'P18', 'P19', 'P20',\n",
            "       'P21', 'P22', 'P23', 'P24', 'P25', 'P26', 'P27', 'P28', 'P29', 'P30',\n",
            "       'PTJE TOTAL', 'PORCENTAJE DE LOGRO', 'NIVEL DE LOGRO', 'VIA DE INGRESO',\n",
            "       'TIPO DE ESTABLECIMIENTO', 'PSU LENGUAJE', 'NEM',\n",
            "       'Manejo de Conectores', 'Plan de Redacción', 'Recuperar', 'Analizar',\n",
            "       'Evaluar'],\n",
            "      dtype='object')\n",
            "columns in 2020: Index(['Nº', 'P1', 'P2', 'P3', 'P4', 'P5', 'P6', 'P7', 'P8', 'P9', 'P10',\n",
            "       'P11', 'P12', 'P13', 'P14', 'P15', 'P16', 'P17', 'P18', 'P19', 'P20',\n",
            "       'P21', 'P22', 'P23', 'P24', 'P25', 'P26', 'P27', 'P28', 'P29', 'P30',\n",
            "       'PTJE TOTAL', 'PORCENTAJE DE LOGRO', 'NIVEL DE LOGRO',\n",
            "       'Manejo de Conectores', 'Plan de Redacción', 'Recuperar', 'Analizar',\n",
            "       'Evaluar'],\n",
            "      dtype='object')\n"
          ],
          "name": "stdout"
        }
      ]
    },
    {
      "cell_type": "markdown",
      "metadata": {
        "id": "2uEj_9fZUFeG"
      },
      "source": [
        "## Clean data"
      ]
    },
    {
      "cell_type": "code",
      "metadata": {
        "id": "M-v7EUi7VGrL"
      },
      "source": [
        "# P1 - P30\n",
        "questions = []\n",
        "for i in range(30):\n",
        "  q = f'P{i+1}'\n",
        "  questions.append(q)"
      ],
      "execution_count": 141,
      "outputs": []
    },
    {
      "cell_type": "code",
      "metadata": {
        "id": "7UYsgxHpa8h3"
      },
      "source": [
        "df_2017.drop(columns=questions, inplace=True)\n",
        "df_2019.drop(columns=questions, inplace=True)\n",
        "df_2020.drop(columns=questions, inplace=True)"
      ],
      "execution_count": 142,
      "outputs": []
    },
    {
      "cell_type": "code",
      "metadata": {
        "colab": {
          "base_uri": "https://localhost:8080/"
        },
        "id": "dcp4jchIcjVZ",
        "outputId": "7594daa9-e60b-48e6-ce03-ceb39119a06d"
      },
      "source": [
        "print('columns in 2017:', df_2017.columns)\n",
        "print('columns in 2018:', df_2018.columns)\n",
        "print('columns in 2019:', df_2019.columns)\n",
        "print('columns in 2020:', df_2020.columns)"
      ],
      "execution_count": 143,
      "outputs": [
        {
          "output_type": "stream",
          "text": [
            "columns in 2017: Index(['Puntaje Total', 'Porcentaje Total', 'Nivel de Logro', 'Tipo Estab.',\n",
            "       'Establecimiento', 'NEM', 'Pje. Lenguaje', 'Tipo Ingreso', 'Región',\n",
            "       'Manejo de Conectores', 'Plan de Redacción', 'Recuperar', 'Analizar',\n",
            "       'Evaluar', 'Distribución'],\n",
            "      dtype='object')\n",
            "columns in 2018: Index(['Nº', 'RESPUESTAS CORRECTAS', 'PORCENTAJE DE LOGRO', 'NIVEL DE LOGRO',\n",
            "       'VIA DE INGRESO', 'TIPO DE ESTABLECIMIENTO', 'REGIÓN', 'PSU LENGUAJE',\n",
            "       'NEM'],\n",
            "      dtype='object')\n",
            "columns in 2019: Index(['Nº', 'PTJE TOTAL', 'PORCENTAJE DE LOGRO', 'NIVEL DE LOGRO',\n",
            "       'VIA DE INGRESO', 'TIPO DE ESTABLECIMIENTO', 'PSU LENGUAJE', 'NEM',\n",
            "       'Manejo de Conectores', 'Plan de Redacción', 'Recuperar', 'Analizar',\n",
            "       'Evaluar'],\n",
            "      dtype='object')\n",
            "columns in 2020: Index(['Nº', 'PTJE TOTAL', 'PORCENTAJE DE LOGRO', 'NIVEL DE LOGRO',\n",
            "       'Manejo de Conectores', 'Plan de Redacción', 'Recuperar', 'Analizar',\n",
            "       'Evaluar'],\n",
            "      dtype='object')\n"
          ],
          "name": "stdout"
        }
      ]
    },
    {
      "cell_type": "markdown",
      "metadata": {
        "id": "M2WZXueneBlA"
      },
      "source": [
        "Como no sabemos qué significan las columnas 'Manejo de Conectores', 'Plan de Redacción', 'Recuperar', 'Analizar', 'Evaluar', 'Distribución' por mientras se van a borrar. principalmente porque creemos que tiene que ver con el desempeño, que en su finalidad es lo que queremos predecir. Además, se borrará el identificador 'Nº'"
      ]
    },
    {
      "cell_type": "markdown",
      "metadata": {
        "id": "nH7r-Z8ceBnB"
      },
      "source": [
        "Existen variables que muestran el desempeño, a priori se usará el porcentaje de logro para medirlo. Por esto se borran las variables 'Puntaje Total', 'Nivel de Logro', 'PTJE TOTAL', 'NIVEL DE LOGRO'."
      ]
    },
    {
      "cell_type": "code",
      "metadata": {
        "colab": {
          "base_uri": "https://localhost:8080/"
        },
        "id": "ToJJfuhCfyh7",
        "outputId": "df3c9fbd-d061-4fb7-c0a8-fa4fc86fcff1"
      },
      "source": [
        "unknown_columns_2017 = ['Manejo de Conectores', 'Plan de Redacción', 'Recuperar', \n",
        "                'Analizar', 'Evaluar']\n",
        "eval_extra_2017 = ['Puntaje Total', 'Nivel de Logro']\n",
        "\n",
        "unknown_columns = ['Nº']\n",
        "eval_extra = ['PTJE TOTAL', 'NIVEL DE LOGRO']\n",
        "\n",
        "df_2017.drop(columns=[*unknown_columns_2017, *eval_extra_2017,'Distribución'], inplace=True)\n",
        "df_2018.drop(columns=[*unknown_columns, 'RESPUESTAS CORRECTAS', 'NIVEL DE LOGRO'], inplace=True)\n",
        "df_2019.drop(columns=[*unknown_columns, *eval_extra, *unknown_columns_2017], inplace=True)\n",
        "df_2020.drop(columns=[*unknown_columns, *eval_extra, *unknown_columns_2017], inplace=True)\n",
        "\n",
        "print('columns in 2017:', df_2017.columns)\n",
        "print('columns in 2018:', df_2018.columns)\n",
        "print('columns in 2019:', df_2019.columns)\n",
        "print('columns in 2020:', df_2020.columns)"
      ],
      "execution_count": 144,
      "outputs": [
        {
          "output_type": "stream",
          "text": [
            "columns in 2017: Index(['Porcentaje Total', 'Tipo Estab.', 'Establecimiento', 'NEM',\n",
            "       'Pje. Lenguaje', 'Tipo Ingreso', 'Región'],\n",
            "      dtype='object')\n",
            "columns in 2018: Index(['PORCENTAJE DE LOGRO', 'VIA DE INGRESO', 'TIPO DE ESTABLECIMIENTO',\n",
            "       'REGIÓN', 'PSU LENGUAJE', 'NEM'],\n",
            "      dtype='object')\n",
            "columns in 2019: Index(['PORCENTAJE DE LOGRO', 'VIA DE INGRESO', 'TIPO DE ESTABLECIMIENTO',\n",
            "       'PSU LENGUAJE', 'NEM'],\n",
            "      dtype='object')\n",
            "columns in 2020: Index(['PORCENTAJE DE LOGRO'], dtype='object')\n"
          ],
          "name": "stdout"
        }
      ]
    },
    {
      "cell_type": "code",
      "metadata": {
        "colab": {
          "base_uri": "https://localhost:8080/"
        },
        "id": "hf20r3dw_a_H",
        "outputId": "60eddd8c-df51-4d35-ab0a-d09002ed764c"
      },
      "source": [
        "print(df_2017.isna().sum())\n",
        "print(df_2018.isna().sum())\n",
        "print(df_2019.isna().sum())\n",
        "print(df_2020.isna().sum())"
      ],
      "execution_count": 145,
      "outputs": [
        {
          "output_type": "stream",
          "text": [
            "Porcentaje Total    0\n",
            "Tipo Estab.         0\n",
            "Establecimiento     0\n",
            "NEM                 0\n",
            "Pje. Lenguaje       0\n",
            "Tipo Ingreso        0\n",
            "Región              0\n",
            "dtype: int64\n",
            "PORCENTAJE DE LOGRO        0\n",
            "VIA DE INGRESO             0\n",
            "TIPO DE ESTABLECIMIENTO    0\n",
            "REGIÓN                     0\n",
            "PSU LENGUAJE               0\n",
            "NEM                        0\n",
            "dtype: int64\n",
            "PORCENTAJE DE LOGRO          0\n",
            "VIA DE INGRESO             191\n",
            "TIPO DE ESTABLECIMIENTO    203\n",
            "PSU LENGUAJE               192\n",
            "NEM                        192\n",
            "dtype: int64\n",
            "PORCENTAJE DE LOGRO    0\n",
            "dtype: int64\n"
          ],
          "name": "stdout"
        }
      ]
    },
    {
      "cell_type": "markdown",
      "metadata": {
        "id": "CdFb9IjSLTEp"
      },
      "source": [
        "Claramente, los resultados del 2020 no se pueden usar para entrenar ya que no se cuenta con los atributos de los estudiantes. De esta forma solo se pueden usar los datos desde 2017 hasta el 2019. Por otra parte, en el año 2019 existe una gran cantidad de estudiantes que tienen NaN en algunos de sus atributos. Estos de forma preliminar será eliminados, pero luego se pueden rellenar sus datos."
      ]
    },
    {
      "cell_type": "code",
      "metadata": {
        "id": "e4hkjL_MNKOv"
      },
      "source": [
        "df_2019.dropna(inplace=True)"
      ],
      "execution_count": 146,
      "outputs": []
    },
    {
      "cell_type": "code",
      "metadata": {
        "id": "jTIc3viXNTSz"
      },
      "source": [
        "df_2019.shape\n",
        "df_2017.drop(columns='Establecimiento', inplace=True)"
      ],
      "execution_count": 147,
      "outputs": []
    },
    {
      "cell_type": "markdown",
      "metadata": {
        "id": "YULn1DE4NXdy"
      },
      "source": [
        "### Concatenar los datasets"
      ]
    },
    {
      "cell_type": "code",
      "metadata": {
        "id": "55gE9y9GNW07"
      },
      "source": [
        "dict_names = {'Porcentaje Total': 'PORCENTAJE DE LOGRO', 'Tipo Estab.': 'TIPO DE ESTABLECIMIENTO',\n",
        "              'Pje. Lenguaje': 'PSU LENGUAJE', 'Tipo Ingreso': 'VIA DE INGRESO'}\n",
        "\n",
        "df_2017.drop(columns='Región', inplace=True)\n",
        "df_2018.drop(columns='REGIÓN', inplace=True)"
      ],
      "execution_count": 148,
      "outputs": []
    },
    {
      "cell_type": "code",
      "metadata": {
        "colab": {
          "base_uri": "https://localhost:8080/"
        },
        "id": "6fv2BmpURstJ",
        "outputId": "9cfe7588-1fad-4794-d927-9d92e91f8538"
      },
      "source": [
        "df_2017.rename(columns=dict_names, inplace=True)\n",
        "print(df_2017.columns)\n",
        "print(df_2018.columns)\n",
        "print(df_2019.columns)"
      ],
      "execution_count": 149,
      "outputs": [
        {
          "output_type": "stream",
          "text": [
            "Index(['PORCENTAJE DE LOGRO', 'TIPO DE ESTABLECIMIENTO', 'NEM', 'PSU LENGUAJE',\n",
            "       'VIA DE INGRESO'],\n",
            "      dtype='object')\n",
            "Index(['PORCENTAJE DE LOGRO', 'VIA DE INGRESO', 'TIPO DE ESTABLECIMIENTO',\n",
            "       'PSU LENGUAJE', 'NEM'],\n",
            "      dtype='object')\n",
            "Index(['PORCENTAJE DE LOGRO', 'VIA DE INGRESO', 'TIPO DE ESTABLECIMIENTO',\n",
            "       'PSU LENGUAJE', 'NEM'],\n",
            "      dtype='object')\n"
          ],
          "name": "stdout"
        }
      ]
    },
    {
      "cell_type": "code",
      "metadata": {
        "id": "U-2TwJAhSzBt"
      },
      "source": [
        "# concatenate\n",
        "\n",
        "dfs = [df_2017, df_2018, df_2019]\n",
        "\n",
        "df = pd.concat(dfs)"
      ],
      "execution_count": 150,
      "outputs": []
    },
    {
      "cell_type": "code",
      "metadata": {
        "colab": {
          "base_uri": "https://localhost:8080/",
          "height": 204
        },
        "id": "zkIs7pV5S94E",
        "outputId": "ca0a2d4f-b057-4cbe-a195-068813286023"
      },
      "source": [
        "df.head()"
      ],
      "execution_count": 151,
      "outputs": [
        {
          "output_type": "execute_result",
          "data": {
            "text/html": [
              "<div>\n",
              "<style scoped>\n",
              "    .dataframe tbody tr th:only-of-type {\n",
              "        vertical-align: middle;\n",
              "    }\n",
              "\n",
              "    .dataframe tbody tr th {\n",
              "        vertical-align: top;\n",
              "    }\n",
              "\n",
              "    .dataframe thead th {\n",
              "        text-align: right;\n",
              "    }\n",
              "</style>\n",
              "<table border=\"1\" class=\"dataframe\">\n",
              "  <thead>\n",
              "    <tr style=\"text-align: right;\">\n",
              "      <th></th>\n",
              "      <th>PORCENTAJE DE LOGRO</th>\n",
              "      <th>TIPO DE ESTABLECIMIENTO</th>\n",
              "      <th>NEM</th>\n",
              "      <th>PSU LENGUAJE</th>\n",
              "      <th>VIA DE INGRESO</th>\n",
              "    </tr>\n",
              "  </thead>\n",
              "  <tbody>\n",
              "    <tr>\n",
              "      <th>1</th>\n",
              "      <td>0.312500</td>\n",
              "      <td>Subvencionado</td>\n",
              "      <td>678</td>\n",
              "      <td>612</td>\n",
              "      <td>PAA o PSU</td>\n",
              "    </tr>\n",
              "    <tr>\n",
              "      <th>2</th>\n",
              "      <td>0.312500</td>\n",
              "      <td>Municipal</td>\n",
              "      <td>635</td>\n",
              "      <td>684</td>\n",
              "      <td>PAA o PSU</td>\n",
              "    </tr>\n",
              "    <tr>\n",
              "      <th>3</th>\n",
              "      <td>0.333333</td>\n",
              "      <td>Subvencionado</td>\n",
              "      <td>557</td>\n",
              "      <td>729</td>\n",
              "      <td>Bachillerato</td>\n",
              "    </tr>\n",
              "    <tr>\n",
              "      <th>5</th>\n",
              "      <td>0.375000</td>\n",
              "      <td>Particular</td>\n",
              "      <td>643</td>\n",
              "      <td>660</td>\n",
              "      <td>PAA o PSU</td>\n",
              "    </tr>\n",
              "    <tr>\n",
              "      <th>7</th>\n",
              "      <td>0.437500</td>\n",
              "      <td>Particular</td>\n",
              "      <td>702</td>\n",
              "      <td>626</td>\n",
              "      <td>Bachillerato</td>\n",
              "    </tr>\n",
              "  </tbody>\n",
              "</table>\n",
              "</div>"
            ],
            "text/plain": [
              "   PORCENTAJE DE LOGRO TIPO DE ESTABLECIMIENTO  NEM PSU LENGUAJE VIA DE INGRESO\n",
              "1             0.312500           Subvencionado  678          612      PAA o PSU\n",
              "2             0.312500               Municipal  635          684      PAA o PSU\n",
              "3             0.333333           Subvencionado  557          729   Bachillerato\n",
              "5             0.375000              Particular  643          660      PAA o PSU\n",
              "7             0.437500              Particular  702          626   Bachillerato"
            ]
          },
          "metadata": {
            "tags": []
          },
          "execution_count": 151
        }
      ]
    },
    {
      "cell_type": "code",
      "metadata": {
        "colab": {
          "base_uri": "https://localhost:8080/"
        },
        "id": "F1DisIq8TDIB",
        "outputId": "99dede31-e34b-4bc6-a199-bc111bceab57"
      },
      "source": [
        "df['VIA DE INGRESO'].unique()"
      ],
      "execution_count": 152,
      "outputs": [
        {
          "output_type": "execute_result",
          "data": {
            "text/plain": [
              "array(['PAA o PSU', 'Bachillerato', '5% Colegios Municipalizados',\n",
              "       'Equidad de Genero', 'SIPEE', 'Deportista', 'PSU',\n",
              "       'EQUIDAD DE GÉNERO', 'S/I', 'DEPORTISTA DESTACADO', 'EDT',\n",
              "       'BEA (BECA EXCELENCIA ACADÉMICA)', 'PACE',\n",
              "       'Bea (Beca Excelencia Académica)', 'Sipee', 'Deportista Destacado',\n",
              "       'Equidad de Género'], dtype=object)"
            ]
          },
          "metadata": {
            "tags": []
          },
          "execution_count": 152
        }
      ]
    },
    {
      "cell_type": "code",
      "metadata": {
        "id": "m_AIPqZzTmNB"
      },
      "source": [
        "df.loc[df['VIA DE INGRESO'] == 'PSU', 'VIA DE INGRESO'] = 'PAA o PSU'\n",
        "df.loc[df['VIA DE INGRESO'] == 'Deportista', 'VIA DE INGRESO'] = 'DEPORTISTA DESTACADO'\n",
        "df.loc[df['VIA DE INGRESO'] == 'Deportista Destacado', 'VIA DE INGRESO'] = 'DEPORTISTA DESTACADO'\n",
        "df.loc[df['VIA DE INGRESO'] == 'Bea (Beca Excelencia Académica)', 'VIA DE INGRESO'] = 'BEA (BECA EXCELENCIA ACADÉMICA)'\n",
        "df.loc[df['VIA DE INGRESO'] == 'Sipee', 'VIA DE INGRESO'] = 'SIPEE'\n",
        "df.loc[df['VIA DE INGRESO'] == 'Equidad de Género', 'VIA DE INGRESO'] = 'EQUIDAD DE GÉNERO'\n",
        "df.loc[df['VIA DE INGRESO'] == 'Equidad de Genero', 'VIA DE INGRESO'] = 'EQUIDAD DE GÉNERO'"
      ],
      "execution_count": 153,
      "outputs": []
    },
    {
      "cell_type": "code",
      "metadata": {
        "colab": {
          "base_uri": "https://localhost:8080/"
        },
        "id": "CwYfTbvNUqn7",
        "outputId": "770dc9ea-fd26-4fbc-c4cc-00b9b5f3bc9a"
      },
      "source": [
        "df['VIA DE INGRESO'].unique()"
      ],
      "execution_count": 154,
      "outputs": [
        {
          "output_type": "execute_result",
          "data": {
            "text/plain": [
              "array(['PAA o PSU', 'Bachillerato', '5% Colegios Municipalizados',\n",
              "       'EQUIDAD DE GÉNERO', 'SIPEE', 'DEPORTISTA DESTACADO', 'S/I', 'EDT',\n",
              "       'BEA (BECA EXCELENCIA ACADÉMICA)', 'PACE'], dtype=object)"
            ]
          },
          "metadata": {
            "tags": []
          },
          "execution_count": 154
        }
      ]
    },
    {
      "cell_type": "code",
      "metadata": {
        "colab": {
          "base_uri": "https://localhost:8080/"
        },
        "id": "TYMPeorKU6lx",
        "outputId": "ce9e2188-14ac-474c-e1ed-035e01b9dcb3"
      },
      "source": [
        "df['TIPO DE ESTABLECIMIENTO'].unique()"
      ],
      "execution_count": 155,
      "outputs": [
        {
          "output_type": "execute_result",
          "data": {
            "text/plain": [
              "array(['Subvencionado', 'Municipal', 'Particular', 'HC DIURNO',\n",
              "       'HC NOCTURNO', 'TP INDUSTRIAL', 'TP COMERCIAL', 'Extranjero'],\n",
              "      dtype=object)"
            ]
          },
          "metadata": {
            "tags": []
          },
          "execution_count": 155
        }
      ]
    },
    {
      "cell_type": "code",
      "metadata": {
        "id": "H9b8iD-tVX0H"
      },
      "source": [
        "df['VIA DE INGRESO'] = df['VIA DE INGRESO'].astype('category')\n",
        "df['TIPO DE ESTABLECIMIENTO'] = df['TIPO DE ESTABLECIMIENTO'].astype('category')"
      ],
      "execution_count": 156,
      "outputs": []
    },
    {
      "cell_type": "code",
      "metadata": {
        "colab": {
          "base_uri": "https://localhost:8080/",
          "height": 204
        },
        "id": "NkGeogiuYdga",
        "outputId": "0425238e-1aaf-4905-c0ed-1f4da5cbb4b1"
      },
      "source": [
        "df.head()"
      ],
      "execution_count": 157,
      "outputs": [
        {
          "output_type": "execute_result",
          "data": {
            "text/html": [
              "<div>\n",
              "<style scoped>\n",
              "    .dataframe tbody tr th:only-of-type {\n",
              "        vertical-align: middle;\n",
              "    }\n",
              "\n",
              "    .dataframe tbody tr th {\n",
              "        vertical-align: top;\n",
              "    }\n",
              "\n",
              "    .dataframe thead th {\n",
              "        text-align: right;\n",
              "    }\n",
              "</style>\n",
              "<table border=\"1\" class=\"dataframe\">\n",
              "  <thead>\n",
              "    <tr style=\"text-align: right;\">\n",
              "      <th></th>\n",
              "      <th>PORCENTAJE DE LOGRO</th>\n",
              "      <th>TIPO DE ESTABLECIMIENTO</th>\n",
              "      <th>NEM</th>\n",
              "      <th>PSU LENGUAJE</th>\n",
              "      <th>VIA DE INGRESO</th>\n",
              "    </tr>\n",
              "  </thead>\n",
              "  <tbody>\n",
              "    <tr>\n",
              "      <th>1</th>\n",
              "      <td>0.312500</td>\n",
              "      <td>Subvencionado</td>\n",
              "      <td>678</td>\n",
              "      <td>612</td>\n",
              "      <td>PAA o PSU</td>\n",
              "    </tr>\n",
              "    <tr>\n",
              "      <th>2</th>\n",
              "      <td>0.312500</td>\n",
              "      <td>Municipal</td>\n",
              "      <td>635</td>\n",
              "      <td>684</td>\n",
              "      <td>PAA o PSU</td>\n",
              "    </tr>\n",
              "    <tr>\n",
              "      <th>3</th>\n",
              "      <td>0.333333</td>\n",
              "      <td>Subvencionado</td>\n",
              "      <td>557</td>\n",
              "      <td>729</td>\n",
              "      <td>Bachillerato</td>\n",
              "    </tr>\n",
              "    <tr>\n",
              "      <th>5</th>\n",
              "      <td>0.375000</td>\n",
              "      <td>Particular</td>\n",
              "      <td>643</td>\n",
              "      <td>660</td>\n",
              "      <td>PAA o PSU</td>\n",
              "    </tr>\n",
              "    <tr>\n",
              "      <th>7</th>\n",
              "      <td>0.437500</td>\n",
              "      <td>Particular</td>\n",
              "      <td>702</td>\n",
              "      <td>626</td>\n",
              "      <td>Bachillerato</td>\n",
              "    </tr>\n",
              "  </tbody>\n",
              "</table>\n",
              "</div>"
            ],
            "text/plain": [
              "   PORCENTAJE DE LOGRO TIPO DE ESTABLECIMIENTO  NEM PSU LENGUAJE VIA DE INGRESO\n",
              "1             0.312500           Subvencionado  678          612      PAA o PSU\n",
              "2             0.312500               Municipal  635          684      PAA o PSU\n",
              "3             0.333333           Subvencionado  557          729   Bachillerato\n",
              "5             0.375000              Particular  643          660      PAA o PSU\n",
              "7             0.437500              Particular  702          626   Bachillerato"
            ]
          },
          "metadata": {
            "tags": []
          },
          "execution_count": 157
        }
      ]
    },
    {
      "cell_type": "code",
      "metadata": {
        "colab": {
          "base_uri": "https://localhost:8080/"
        },
        "id": "q84gctkQXFsk",
        "outputId": "19a4b75a-d9cb-44a1-ef4e-4997cef4c0f9"
      },
      "source": [
        "print(dict(enumerate(df['VIA DE INGRESO'].cat.categories)))\n",
        "print(dict(enumerate(df['TIPO DE ESTABLECIMIENTO'].cat.categories)))"
      ],
      "execution_count": 158,
      "outputs": [
        {
          "output_type": "stream",
          "text": [
            "{0: '5% Colegios Municipalizados', 1: 'BEA (BECA EXCELENCIA ACADÉMICA)', 2: 'Bachillerato', 3: 'DEPORTISTA DESTACADO', 4: 'EDT', 5: 'EQUIDAD DE GÉNERO', 6: 'PAA o PSU', 7: 'PACE', 8: 'S/I', 9: 'SIPEE'}\n",
            "{0: 'Extranjero', 1: 'HC DIURNO', 2: 'HC NOCTURNO', 3: 'Municipal', 4: 'Particular', 5: 'Subvencionado', 6: 'TP COMERCIAL', 7: 'TP INDUSTRIAL'}\n"
          ],
          "name": "stdout"
        }
      ]
    },
    {
      "cell_type": "code",
      "metadata": {
        "id": "mKeZS2fvW0qW"
      },
      "source": [
        "df['VIA DE INGRESO'] = df['VIA DE INGRESO'].cat.codes\n",
        "df['TIPO DE ESTABLECIMIENTO'] = df['TIPO DE ESTABLECIMIENTO'].cat.codes"
      ],
      "execution_count": 159,
      "outputs": []
    },
    {
      "cell_type": "code",
      "metadata": {
        "colab": {
          "base_uri": "https://localhost:8080/",
          "height": 204
        },
        "id": "n_hRGck1YZws",
        "outputId": "c2c94d04-64f3-4853-b978-1c3d72ce2158"
      },
      "source": [
        "df.head()"
      ],
      "execution_count": 160,
      "outputs": [
        {
          "output_type": "execute_result",
          "data": {
            "text/html": [
              "<div>\n",
              "<style scoped>\n",
              "    .dataframe tbody tr th:only-of-type {\n",
              "        vertical-align: middle;\n",
              "    }\n",
              "\n",
              "    .dataframe tbody tr th {\n",
              "        vertical-align: top;\n",
              "    }\n",
              "\n",
              "    .dataframe thead th {\n",
              "        text-align: right;\n",
              "    }\n",
              "</style>\n",
              "<table border=\"1\" class=\"dataframe\">\n",
              "  <thead>\n",
              "    <tr style=\"text-align: right;\">\n",
              "      <th></th>\n",
              "      <th>PORCENTAJE DE LOGRO</th>\n",
              "      <th>TIPO DE ESTABLECIMIENTO</th>\n",
              "      <th>NEM</th>\n",
              "      <th>PSU LENGUAJE</th>\n",
              "      <th>VIA DE INGRESO</th>\n",
              "    </tr>\n",
              "  </thead>\n",
              "  <tbody>\n",
              "    <tr>\n",
              "      <th>1</th>\n",
              "      <td>0.312500</td>\n",
              "      <td>5</td>\n",
              "      <td>678</td>\n",
              "      <td>612</td>\n",
              "      <td>6</td>\n",
              "    </tr>\n",
              "    <tr>\n",
              "      <th>2</th>\n",
              "      <td>0.312500</td>\n",
              "      <td>3</td>\n",
              "      <td>635</td>\n",
              "      <td>684</td>\n",
              "      <td>6</td>\n",
              "    </tr>\n",
              "    <tr>\n",
              "      <th>3</th>\n",
              "      <td>0.333333</td>\n",
              "      <td>5</td>\n",
              "      <td>557</td>\n",
              "      <td>729</td>\n",
              "      <td>2</td>\n",
              "    </tr>\n",
              "    <tr>\n",
              "      <th>5</th>\n",
              "      <td>0.375000</td>\n",
              "      <td>4</td>\n",
              "      <td>643</td>\n",
              "      <td>660</td>\n",
              "      <td>6</td>\n",
              "    </tr>\n",
              "    <tr>\n",
              "      <th>7</th>\n",
              "      <td>0.437500</td>\n",
              "      <td>4</td>\n",
              "      <td>702</td>\n",
              "      <td>626</td>\n",
              "      <td>2</td>\n",
              "    </tr>\n",
              "  </tbody>\n",
              "</table>\n",
              "</div>"
            ],
            "text/plain": [
              "   PORCENTAJE DE LOGRO  TIPO DE ESTABLECIMIENTO  ... PSU LENGUAJE VIA DE INGRESO\n",
              "1             0.312500                        5  ...          612              6\n",
              "2             0.312500                        3  ...          684              6\n",
              "3             0.333333                        5  ...          729              2\n",
              "5             0.375000                        4  ...          660              6\n",
              "7             0.437500                        4  ...          626              2\n",
              "\n",
              "[5 rows x 5 columns]"
            ]
          },
          "metadata": {
            "tags": []
          },
          "execution_count": 160
        }
      ]
    },
    {
      "cell_type": "markdown",
      "metadata": {
        "id": "kJzzpcwBYs2Y"
      },
      "source": [
        "## Distribución porcentaje de logro"
      ]
    },
    {
      "cell_type": "code",
      "metadata": {
        "colab": {
          "base_uri": "https://localhost:8080/",
          "height": 285
        },
        "id": "lQnzV3yqZEfu",
        "outputId": "a90faf3e-0e47-4a76-da8b-a1031241d77b"
      },
      "source": [
        "df['PORCENTAJE DE LOGRO'].plot.density()"
      ],
      "execution_count": 162,
      "outputs": [
        {
          "output_type": "execute_result",
          "data": {
            "text/plain": [
              "<matplotlib.axes._subplots.AxesSubplot at 0x7fca425ea750>"
            ]
          },
          "metadata": {
            "tags": []
          },
          "execution_count": 162
        },
        {
          "output_type": "display_data",
          "data": {
            "image/png": "[encoded data removed]",
            "text/plain": [
              "<Figure size 432x288 with 1 Axes>"
            ]
          },
          "metadata": {
            "tags": [],
            "needs_background": "light"
          }
        }
      ]
    },
    {
      "cell_type": "code",
      "metadata": {
        "colab": {
          "base_uri": "https://localhost:8080/"
        },
        "id": "Y2pH06JGZjCj",
        "outputId": "c5084e46-44b3-4ef3-b727-5da3d35bdecb"
      },
      "source": [
        "print('Mean:', df['PORCENTAJE DE LOGRO'].mean())\n",
        "print('Standard Deviation: ', df['PORCENTAJE DE LOGRO'].std())\n",
        "print('Maximum:', df['PORCENTAJE DE LOGRO'].max())\n",
        "print('Minimum:', df['PORCENTAJE DE LOGRO'].min())"
      ],
      "execution_count": 166,
      "outputs": [
        {
          "output_type": "stream",
          "text": [
            "Mean: 0.6917042042042035\n",
            "Standard Deviation:  0.10459446553504753\n",
            "Maximum: 0.9791666666666666\n",
            "Minimum: 0.041666666666666664\n"
          ],
          "name": "stdout"
        }
      ]
    }
  ]
}