{
  "nbformat": 4,
  "nbformat_minor": 0,
  "metadata": {
    "colab": {
      "name": "exp_datos.ipynb",
      "provenance": [],
      "collapsed_sections": []
    },
    "kernelspec": {
      "name": "python3",
      "display_name": "Python 3"
    },
    "language_info": {
      "name": "python"
    }
  },
  "cells": [
    {
      "cell_type": "code",
      "metadata": {
        "id": "GT9EyGPyt8EN"
      },
      "source": [
        "import pandas as pd\n",
        "import seaborn as sns\n",
        "import matplotlib.pyplot as plt"
      ],
      "execution_count": null,
      "outputs": []
    },
    {
      "cell_type": "markdown",
      "metadata": {
        "id": "XZqXdbKKu9FP"
      },
      "source": [
        "## Load Data"
      ]
    },
    {
      "cell_type": "code",
      "metadata": {
        "id": "orFJmhwvu_60",
        "colab": {
          "base_uri": "https://localhost:8080/"
        },
        "outputId": "16a8de50-0391-461e-fa47-5165adaf1c55"
      },
      "source": [
        "from google.colab import drive\n",
        "drive.mount('/content/drive')"
      ],
      "execution_count": null,
      "outputs": [
        {
          "output_type": "stream",
          "text": [
            "Mounted at /content/drive\n"
          ],
          "name": "stdout"
        }
      ]
    },
    {
      "cell_type": "code",
      "metadata": {
        "colab": {
          "base_uri": "https://localhost:8080/",
          "height": 1000
        },
        "id": "uDCCfFf1vn_p",
        "outputId": "2e9d35ae-9d77-4d21-e116-e6e618db072b"
      },
      "source": [
        "path = \"/content/drive/My Drive/Taller_diseño_proyecto/data_academic_performance.xlsx\"\n",
        "df_raw = pd.read_excel(path)\n",
        "df_raw"
      ],
      "execution_count": null,
      "outputs": [
        {
          "output_type": "execute_result",
          "data": {
            "text/html": [
              "<div>\n",
              "<style scoped>\n",
              "    .dataframe tbody tr th:only-of-type {\n",
              "        vertical-align: middle;\n",
              "    }\n",
              "\n",
              "    .dataframe tbody tr th {\n",
              "        vertical-align: top;\n",
              "    }\n",
              "\n",
              "    .dataframe thead th {\n",
              "        text-align: right;\n",
              "    }\n",
              "</style>\n",
              "<table border=\"1\" class=\"dataframe\">\n",
              "  <thead>\n",
              "    <tr style=\"text-align: right;\">\n",
              "      <th></th>\n",
              "      <th>COD_S11</th>\n",
              "      <th>GENDER</th>\n",
              "      <th>EDU_FATHER</th>\n",
              "      <th>EDU_MOTHER</th>\n",
              "      <th>OCC_FATHER</th>\n",
              "      <th>OCC_MOTHER</th>\n",
              "      <th>STRATUM</th>\n",
              "      <th>SISBEN</th>\n",
              "      <th>PEOPLE_HOUSE</th>\n",
              "      <th>Unnamed: 9</th>\n",
              "      <th>INTERNET</th>\n",
              "      <th>TV</th>\n",
              "      <th>COMPUTER</th>\n",
              "      <th>WASHING_MCH</th>\n",
              "      <th>MIC_OVEN</th>\n",
              "      <th>CAR</th>\n",
              "      <th>DVD</th>\n",
              "      <th>FRESH</th>\n",
              "      <th>PHONE</th>\n",
              "      <th>MOBILE</th>\n",
              "      <th>REVENUE</th>\n",
              "      <th>JOB</th>\n",
              "      <th>SCHOOL_NAME</th>\n",
              "      <th>SCHOOL_NAT</th>\n",
              "      <th>SCHOOL_TYPE</th>\n",
              "      <th>MAT_S11</th>\n",
              "      <th>CR_S11</th>\n",
              "      <th>CC_S11</th>\n",
              "      <th>BIO_S11</th>\n",
              "      <th>ENG_S11</th>\n",
              "      <th>Cod_SPro</th>\n",
              "      <th>UNIVERSITY</th>\n",
              "      <th>ACADEMIC_PROGRAM</th>\n",
              "      <th>QR_PRO</th>\n",
              "      <th>CR_PRO</th>\n",
              "      <th>CC_PRO</th>\n",
              "      <th>ENG_PRO</th>\n",
              "      <th>WC_PRO</th>\n",
              "      <th>FEP_PRO</th>\n",
              "      <th>G_SC</th>\n",
              "      <th>PERCENTILE</th>\n",
              "      <th>2ND_DECILE</th>\n",
              "      <th>QUARTILE</th>\n",
              "      <th>SEL</th>\n",
              "      <th>SEL_IHE</th>\n",
              "    </tr>\n",
              "  </thead>\n",
              "  <tbody>\n",
              "    <tr>\n",
              "      <th>0</th>\n",
              "      <td>SB11201210000129</td>\n",
              "      <td>F</td>\n",
              "      <td>Incomplete Professional Education</td>\n",
              "      <td>Complete technique or technology</td>\n",
              "      <td>Technical or professional level employee</td>\n",
              "      <td>Home</td>\n",
              "      <td>Stratum 4</td>\n",
              "      <td>It is not classified by the SISBEN</td>\n",
              "      <td>Three</td>\n",
              "      <td>NaN</td>\n",
              "      <td>Yes</td>\n",
              "      <td>Yes</td>\n",
              "      <td>Yes</td>\n",
              "      <td>Yes</td>\n",
              "      <td>No</td>\n",
              "      <td>No</td>\n",
              "      <td>Yes</td>\n",
              "      <td>Yes</td>\n",
              "      <td>Yes</td>\n",
              "      <td>Yes</td>\n",
              "      <td>Between 1 and less than 2 LMMW</td>\n",
              "      <td>No</td>\n",
              "      <td>COL NUEVO CAMBRIDGE</td>\n",
              "      <td>PRIVATE</td>\n",
              "      <td>ACADEMIC</td>\n",
              "      <td>71</td>\n",
              "      <td>81</td>\n",
              "      <td>61</td>\n",
              "      <td>86</td>\n",
              "      <td>82</td>\n",
              "      <td>EK201830142293</td>\n",
              "      <td>UNIVERSIDAD DE SANTANDER - UDES-BUCARAMANGA</td>\n",
              "      <td>INDUSTRIAL ENGINEERING</td>\n",
              "      <td>71</td>\n",
              "      <td>93</td>\n",
              "      <td>71</td>\n",
              "      <td>93</td>\n",
              "      <td>79</td>\n",
              "      <td>181</td>\n",
              "      <td>180</td>\n",
              "      <td>91</td>\n",
              "      <td>5</td>\n",
              "      <td>4</td>\n",
              "      <td>2</td>\n",
              "      <td>2</td>\n",
              "    </tr>\n",
              "    <tr>\n",
              "      <th>1</th>\n",
              "      <td>SB11201210000137</td>\n",
              "      <td>F</td>\n",
              "      <td>Complete Secundary</td>\n",
              "      <td>Complete professional education</td>\n",
              "      <td>Entrepreneur</td>\n",
              "      <td>Independent professional</td>\n",
              "      <td>Stratum 5</td>\n",
              "      <td>It is not classified by the SISBEN</td>\n",
              "      <td>Three</td>\n",
              "      <td>NaN</td>\n",
              "      <td>Yes</td>\n",
              "      <td>Yes</td>\n",
              "      <td>Yes</td>\n",
              "      <td>Yes</td>\n",
              "      <td>Yes</td>\n",
              "      <td>Yes</td>\n",
              "      <td>Yes</td>\n",
              "      <td>Yes</td>\n",
              "      <td>Yes</td>\n",
              "      <td>Yes</td>\n",
              "      <td>10 or more LMMW</td>\n",
              "      <td>No</td>\n",
              "      <td>COL LA QUINTA DEL PUENTE</td>\n",
              "      <td>PRIVATE</td>\n",
              "      <td>ACADEMIC</td>\n",
              "      <td>83</td>\n",
              "      <td>75</td>\n",
              "      <td>66</td>\n",
              "      <td>100</td>\n",
              "      <td>88</td>\n",
              "      <td>EK201830002633</td>\n",
              "      <td>UNIVERSIDAD DE LOS ANDES-BOGOTÁ D.C.</td>\n",
              "      <td>INDUSTRIAL ENGINEERING</td>\n",
              "      <td>97</td>\n",
              "      <td>38</td>\n",
              "      <td>86</td>\n",
              "      <td>98</td>\n",
              "      <td>78</td>\n",
              "      <td>201</td>\n",
              "      <td>182</td>\n",
              "      <td>92</td>\n",
              "      <td>5</td>\n",
              "      <td>4</td>\n",
              "      <td>4</td>\n",
              "      <td>4</td>\n",
              "    </tr>\n",
              "    <tr>\n",
              "      <th>2</th>\n",
              "      <td>SB11201210005154</td>\n",
              "      <td>M</td>\n",
              "      <td>Not sure</td>\n",
              "      <td>Not sure</td>\n",
              "      <td>Independent</td>\n",
              "      <td>Home</td>\n",
              "      <td>Stratum 2</td>\n",
              "      <td>Level 2</td>\n",
              "      <td>Five</td>\n",
              "      <td>NaN</td>\n",
              "      <td>No</td>\n",
              "      <td>No</td>\n",
              "      <td>Yes</td>\n",
              "      <td>Yes</td>\n",
              "      <td>No</td>\n",
              "      <td>No</td>\n",
              "      <td>Yes</td>\n",
              "      <td>Yes</td>\n",
              "      <td>Yes</td>\n",
              "      <td>No</td>\n",
              "      <td>Between 1 and less than 2 LMMW</td>\n",
              "      <td>Yes, 20 hours or more per week</td>\n",
              "      <td>CENT EDUC PAULO FREIRE                        ...</td>\n",
              "      <td>PRIVATE</td>\n",
              "      <td>ACADEMIC</td>\n",
              "      <td>52</td>\n",
              "      <td>49</td>\n",
              "      <td>38</td>\n",
              "      <td>46</td>\n",
              "      <td>42</td>\n",
              "      <td>EK201830196510</td>\n",
              "      <td>UNIVERSIDAD NACIONAL ABIERTA Y A DISTANCIA UNA...</td>\n",
              "      <td>ELECTRONIC ENGINEERING</td>\n",
              "      <td>17</td>\n",
              "      <td>1</td>\n",
              "      <td>18</td>\n",
              "      <td>43</td>\n",
              "      <td>22</td>\n",
              "      <td>113</td>\n",
              "      <td>113</td>\n",
              "      <td>7</td>\n",
              "      <td>1</td>\n",
              "      <td>1</td>\n",
              "      <td>1</td>\n",
              "      <td>1</td>\n",
              "    </tr>\n",
              "    <tr>\n",
              "      <th>3</th>\n",
              "      <td>SB11201210007504</td>\n",
              "      <td>F</td>\n",
              "      <td>Not sure</td>\n",
              "      <td>Not sure</td>\n",
              "      <td>Other occupation</td>\n",
              "      <td>Independent</td>\n",
              "      <td>Stratum 2</td>\n",
              "      <td>It is not classified by the SISBEN</td>\n",
              "      <td>Three</td>\n",
              "      <td>NaN</td>\n",
              "      <td>Yes</td>\n",
              "      <td>Yes</td>\n",
              "      <td>Yes</td>\n",
              "      <td>Yes</td>\n",
              "      <td>Yes</td>\n",
              "      <td>No</td>\n",
              "      <td>Yes</td>\n",
              "      <td>Yes</td>\n",
              "      <td>Yes</td>\n",
              "      <td>Yes</td>\n",
              "      <td>Between 2 and less than 3 LMMW</td>\n",
              "      <td>No</td>\n",
              "      <td>LICEO ANDINO</td>\n",
              "      <td>PRIVATE</td>\n",
              "      <td>ACADEMIC</td>\n",
              "      <td>56</td>\n",
              "      <td>55</td>\n",
              "      <td>51</td>\n",
              "      <td>64</td>\n",
              "      <td>73</td>\n",
              "      <td>EK201830031665</td>\n",
              "      <td>UNIVERSIDAD CATOLICA DE PEREIRA-PEREIRA</td>\n",
              "      <td>INDUSTRIAL ENGINEERING</td>\n",
              "      <td>65</td>\n",
              "      <td>35</td>\n",
              "      <td>76</td>\n",
              "      <td>80</td>\n",
              "      <td>48</td>\n",
              "      <td>137</td>\n",
              "      <td>157</td>\n",
              "      <td>67</td>\n",
              "      <td>4</td>\n",
              "      <td>3</td>\n",
              "      <td>2</td>\n",
              "      <td>2</td>\n",
              "    </tr>\n",
              "    <tr>\n",
              "      <th>4</th>\n",
              "      <td>SB11201210007548</td>\n",
              "      <td>M</td>\n",
              "      <td>Complete professional education</td>\n",
              "      <td>Complete professional education</td>\n",
              "      <td>Executive</td>\n",
              "      <td>Home</td>\n",
              "      <td>Stratum 4</td>\n",
              "      <td>It is not classified by the SISBEN</td>\n",
              "      <td>One</td>\n",
              "      <td>NaN</td>\n",
              "      <td>Yes</td>\n",
              "      <td>Yes</td>\n",
              "      <td>Yes</td>\n",
              "      <td>Yes</td>\n",
              "      <td>No</td>\n",
              "      <td>Yes</td>\n",
              "      <td>Yes</td>\n",
              "      <td>Yes</td>\n",
              "      <td>Yes</td>\n",
              "      <td>Yes</td>\n",
              "      <td>Between 7 and less than 10 LMMW</td>\n",
              "      <td>No</td>\n",
              "      <td>LIC TALLER SAN MIGUEL</td>\n",
              "      <td>PRIVATE</td>\n",
              "      <td>ACADEMIC</td>\n",
              "      <td>80</td>\n",
              "      <td>65</td>\n",
              "      <td>76</td>\n",
              "      <td>85</td>\n",
              "      <td>92</td>\n",
              "      <td>EK201830130461</td>\n",
              "      <td>UNIVERSIDAD INDUSTRIAL DE SANTANDER-BUCARAMANGA</td>\n",
              "      <td>INDUSTRIAL ENGINEERING</td>\n",
              "      <td>94</td>\n",
              "      <td>94</td>\n",
              "      <td>98</td>\n",
              "      <td>100</td>\n",
              "      <td>71</td>\n",
              "      <td>189</td>\n",
              "      <td>198</td>\n",
              "      <td>98</td>\n",
              "      <td>5</td>\n",
              "      <td>4</td>\n",
              "      <td>4</td>\n",
              "      <td>2</td>\n",
              "    </tr>\n",
              "    <tr>\n",
              "      <th>...</th>\n",
              "      <td>...</td>\n",
              "      <td>...</td>\n",
              "      <td>...</td>\n",
              "      <td>...</td>\n",
              "      <td>...</td>\n",
              "      <td>...</td>\n",
              "      <td>...</td>\n",
              "      <td>...</td>\n",
              "      <td>...</td>\n",
              "      <td>...</td>\n",
              "      <td>...</td>\n",
              "      <td>...</td>\n",
              "      <td>...</td>\n",
              "      <td>...</td>\n",
              "      <td>...</td>\n",
              "      <td>...</td>\n",
              "      <td>...</td>\n",
              "      <td>...</td>\n",
              "      <td>...</td>\n",
              "      <td>...</td>\n",
              "      <td>...</td>\n",
              "      <td>...</td>\n",
              "      <td>...</td>\n",
              "      <td>...</td>\n",
              "      <td>...</td>\n",
              "      <td>...</td>\n",
              "      <td>...</td>\n",
              "      <td>...</td>\n",
              "      <td>...</td>\n",
              "      <td>...</td>\n",
              "      <td>...</td>\n",
              "      <td>...</td>\n",
              "      <td>...</td>\n",
              "      <td>...</td>\n",
              "      <td>...</td>\n",
              "      <td>...</td>\n",
              "      <td>...</td>\n",
              "      <td>...</td>\n",
              "      <td>...</td>\n",
              "      <td>...</td>\n",
              "      <td>...</td>\n",
              "      <td>...</td>\n",
              "      <td>...</td>\n",
              "      <td>...</td>\n",
              "      <td>...</td>\n",
              "    </tr>\n",
              "    <tr>\n",
              "      <th>12406</th>\n",
              "      <td>SB11201420568705</td>\n",
              "      <td>M</td>\n",
              "      <td>Ninguno</td>\n",
              "      <td>Complete Secundary</td>\n",
              "      <td>Other occupation</td>\n",
              "      <td>Auxiliary or Administrative</td>\n",
              "      <td>Stratum 2</td>\n",
              "      <td>It is not classified by the SISBEN</td>\n",
              "      <td>Six</td>\n",
              "      <td>NaN</td>\n",
              "      <td>Yes</td>\n",
              "      <td>Yes</td>\n",
              "      <td>Yes</td>\n",
              "      <td>Yes</td>\n",
              "      <td>Yes</td>\n",
              "      <td>Yes</td>\n",
              "      <td>Yes</td>\n",
              "      <td>Yes</td>\n",
              "      <td>Yes</td>\n",
              "      <td>Yes</td>\n",
              "      <td>Between 1 and less than 2 LMMW</td>\n",
              "      <td>No</td>\n",
              "      <td>COLEGIO NUESTRA SENORA DE LAS MISERICORDIAS</td>\n",
              "      <td>PRIVATE</td>\n",
              "      <td>ACADEMIC</td>\n",
              "      <td>67</td>\n",
              "      <td>69</td>\n",
              "      <td>70</td>\n",
              "      <td>67</td>\n",
              "      <td>81</td>\n",
              "      <td>EK201830233533</td>\n",
              "      <td>UNIVERSIDAD ECCI-BOGOTÁ D.C.</td>\n",
              "      <td>MECHATRONICS ENGINEERING</td>\n",
              "      <td>88</td>\n",
              "      <td>71</td>\n",
              "      <td>86</td>\n",
              "      <td>87</td>\n",
              "      <td>65</td>\n",
              "      <td>142</td>\n",
              "      <td>176</td>\n",
              "      <td>88</td>\n",
              "      <td>5</td>\n",
              "      <td>4</td>\n",
              "      <td>2</td>\n",
              "      <td>2</td>\n",
              "    </tr>\n",
              "    <tr>\n",
              "      <th>12407</th>\n",
              "      <td>SB11201420573045</td>\n",
              "      <td>M</td>\n",
              "      <td>Complete professional education</td>\n",
              "      <td>Complete Secundary</td>\n",
              "      <td>Executive</td>\n",
              "      <td>Other occupation</td>\n",
              "      <td>Stratum 2</td>\n",
              "      <td>Level 2</td>\n",
              "      <td>Five</td>\n",
              "      <td>NaN</td>\n",
              "      <td>Yes</td>\n",
              "      <td>Yes</td>\n",
              "      <td>Yes</td>\n",
              "      <td>Yes</td>\n",
              "      <td>Yes</td>\n",
              "      <td>No</td>\n",
              "      <td>Yes</td>\n",
              "      <td>Yes</td>\n",
              "      <td>Yes</td>\n",
              "      <td>Yes</td>\n",
              "      <td>Between 2 and less than 3 LMMW</td>\n",
              "      <td>No</td>\n",
              "      <td>COLEGIO REPUBLICA FEDERAL DE ALEMANIA (IED)</td>\n",
              "      <td>PUBLIC</td>\n",
              "      <td>ACADEMIC</td>\n",
              "      <td>58</td>\n",
              "      <td>57</td>\n",
              "      <td>61</td>\n",
              "      <td>63</td>\n",
              "      <td>53</td>\n",
              "      <td>EK201830225944</td>\n",
              "      <td>INSTITUCION UNIVERSITARIA DE COLOMBIA - UNIVER...</td>\n",
              "      <td>INDUSTRIAL ENGINEERING</td>\n",
              "      <td>46</td>\n",
              "      <td>39</td>\n",
              "      <td>44</td>\n",
              "      <td>11</td>\n",
              "      <td>0</td>\n",
              "      <td>127</td>\n",
              "      <td>107</td>\n",
              "      <td>4</td>\n",
              "      <td>1</td>\n",
              "      <td>1</td>\n",
              "      <td>4</td>\n",
              "      <td>2</td>\n",
              "    </tr>\n",
              "    <tr>\n",
              "      <th>12408</th>\n",
              "      <td>SB11201420578809</td>\n",
              "      <td>M</td>\n",
              "      <td>Complete technique or technology</td>\n",
              "      <td>Complete technique or technology</td>\n",
              "      <td>Retired</td>\n",
              "      <td>Home</td>\n",
              "      <td>Stratum 2</td>\n",
              "      <td>Level 2</td>\n",
              "      <td>Five</td>\n",
              "      <td>NaN</td>\n",
              "      <td>Yes</td>\n",
              "      <td>Yes</td>\n",
              "      <td>Yes</td>\n",
              "      <td>No</td>\n",
              "      <td>Yes</td>\n",
              "      <td>Yes</td>\n",
              "      <td>No</td>\n",
              "      <td>Yes</td>\n",
              "      <td>Yes</td>\n",
              "      <td>Yes</td>\n",
              "      <td>Between 3 and less than 5 LMMW</td>\n",
              "      <td>No</td>\n",
              "      <td>INSTITUTO SIGMUND FREUD</td>\n",
              "      <td>PRIVATE</td>\n",
              "      <td>ACADEMIC</td>\n",
              "      <td>66</td>\n",
              "      <td>69</td>\n",
              "      <td>75</td>\n",
              "      <td>70</td>\n",
              "      <td>58</td>\n",
              "      <td>EK201830225636</td>\n",
              "      <td>UNIVERSIDAD TECNOLOGICA DE BOLIVAR-CARTAGENA</td>\n",
              "      <td>INDUSTRIAL ENGINEERING</td>\n",
              "      <td>98</td>\n",
              "      <td>88</td>\n",
              "      <td>90</td>\n",
              "      <td>81</td>\n",
              "      <td>87</td>\n",
              "      <td>192</td>\n",
              "      <td>188</td>\n",
              "      <td>95</td>\n",
              "      <td>5</td>\n",
              "      <td>4</td>\n",
              "      <td>2</td>\n",
              "      <td>2</td>\n",
              "    </tr>\n",
              "    <tr>\n",
              "      <th>12409</th>\n",
              "      <td>SB11201420578812</td>\n",
              "      <td>F</td>\n",
              "      <td>Complete professional education</td>\n",
              "      <td>Complete professional education</td>\n",
              "      <td>Independent professional</td>\n",
              "      <td>Small entrepreneur</td>\n",
              "      <td>Stratum 3</td>\n",
              "      <td>It is not classified by the SISBEN</td>\n",
              "      <td>Seven</td>\n",
              "      <td>NaN</td>\n",
              "      <td>Yes</td>\n",
              "      <td>Yes</td>\n",
              "      <td>Yes</td>\n",
              "      <td>Yes</td>\n",
              "      <td>Yes</td>\n",
              "      <td>Yes</td>\n",
              "      <td>Yes</td>\n",
              "      <td>Yes</td>\n",
              "      <td>Yes</td>\n",
              "      <td>Yes</td>\n",
              "      <td>Between 5 and less than 7 LMMW</td>\n",
              "      <td>No</td>\n",
              "      <td>INSTITUTO SIGMUND FREUD</td>\n",
              "      <td>PRIVATE</td>\n",
              "      <td>ACADEMIC</td>\n",
              "      <td>53</td>\n",
              "      <td>69</td>\n",
              "      <td>64</td>\n",
              "      <td>59</td>\n",
              "      <td>52</td>\n",
              "      <td>EK201830228080</td>\n",
              "      <td>UNIVERSIDAD TECNOLOGICA DE BOLIVAR-CARTAGENA</td>\n",
              "      <td>CIVIL ENGINEERING</td>\n",
              "      <td>60</td>\n",
              "      <td>80</td>\n",
              "      <td>51</td>\n",
              "      <td>8</td>\n",
              "      <td>42</td>\n",
              "      <td>121</td>\n",
              "      <td>146</td>\n",
              "      <td>50</td>\n",
              "      <td>3</td>\n",
              "      <td>3</td>\n",
              "      <td>3</td>\n",
              "      <td>2</td>\n",
              "    </tr>\n",
              "    <tr>\n",
              "      <th>12410</th>\n",
              "      <td>SB11201420583232</td>\n",
              "      <td>M</td>\n",
              "      <td>Complete Secundary</td>\n",
              "      <td>Complete primary</td>\n",
              "      <td>Independent</td>\n",
              "      <td>Home</td>\n",
              "      <td>Stratum 3</td>\n",
              "      <td>Level 1</td>\n",
              "      <td>Four</td>\n",
              "      <td>NaN</td>\n",
              "      <td>No</td>\n",
              "      <td>No</td>\n",
              "      <td>No</td>\n",
              "      <td>No</td>\n",
              "      <td>No</td>\n",
              "      <td>No</td>\n",
              "      <td>No</td>\n",
              "      <td>Yes</td>\n",
              "      <td>Yes</td>\n",
              "      <td>Yes</td>\n",
              "      <td>Between 1 and less than 2 LMMW</td>\n",
              "      <td>No</td>\n",
              "      <td>COL SAN BARTOLOME</td>\n",
              "      <td>PUBLIC</td>\n",
              "      <td>ACADEMIC</td>\n",
              "      <td>79</td>\n",
              "      <td>65</td>\n",
              "      <td>62</td>\n",
              "      <td>77</td>\n",
              "      <td>73</td>\n",
              "      <td>EK201830002677</td>\n",
              "      <td>UNIVERSIDAD DE LOS ANDES-BOGOTÁ D.C.</td>\n",
              "      <td>INDUSTRIAL ENGINEERING</td>\n",
              "      <td>83</td>\n",
              "      <td>95</td>\n",
              "      <td>91</td>\n",
              "      <td>79</td>\n",
              "      <td>47</td>\n",
              "      <td>193</td>\n",
              "      <td>178</td>\n",
              "      <td>89</td>\n",
              "      <td>5</td>\n",
              "      <td>4</td>\n",
              "      <td>2</td>\n",
              "      <td>4</td>\n",
              "    </tr>\n",
              "  </tbody>\n",
              "</table>\n",
              "<p>12411 rows × 45 columns</p>\n",
              "</div>"
            ],
            "text/plain": [
              "                COD_S11 GENDER  ... SEL SEL_IHE\n",
              "0      SB11201210000129      F  ...   2       2\n",
              "1      SB11201210000137      F  ...   4       4\n",
              "2      SB11201210005154      M  ...   1       1\n",
              "3      SB11201210007504      F  ...   2       2\n",
              "4      SB11201210007548      M  ...   4       2\n",
              "...                 ...    ...  ...  ..     ...\n",
              "12406  SB11201420568705      M  ...   2       2\n",
              "12407  SB11201420573045      M  ...   4       2\n",
              "12408  SB11201420578809      M  ...   2       2\n",
              "12409  SB11201420578812      F  ...   3       2\n",
              "12410  SB11201420583232      M  ...   2       4\n",
              "\n",
              "[12411 rows x 45 columns]"
            ]
          },
          "metadata": {
            "tags": []
          },
          "execution_count": 4
        }
      ]
    },
    {
      "cell_type": "markdown",
      "metadata": {
        "id": "RBRssBpGoyaV"
      },
      "source": [
        "Como podemos ver hay columnas de atributos que no califican para Chile, como Stratum (son diferentes a los chilenos), SISBEN, Unnamed 9, DVD ya que esto es antiguo, Fresh porque no sabemos qué es, Revenue ya que está en una medida que no se comprende, school name y todas las columnas después de los puntajes.\n",
        "\n",
        "Es por esto que se eliminan estas columnas. En el futuro algunas de ellas se podrían utilizar pero por ahora se busca generar un modelo simple, por lo que los datos deben ser genéricos."
      ]
    },
    {
      "cell_type": "code",
      "metadata": {
        "colab": {
          "base_uri": "https://localhost:8080/",
          "height": 813
        },
        "id": "a7lQyJrnqGDL",
        "outputId": "6335f5e9-4db6-428a-900f-b7414cba38c7"
      },
      "source": [
        "# Remove features\n",
        "\n",
        "df = df_raw.drop(columns=['COD_S11', 'STRATUM', 'SISBEN', 'Unnamed: 9', 'DVD', 'FRESH', 'REVENUE',\n",
        "                          'SCHOOL_NAME'])\n",
        "df.drop(df.columns[22:], axis=1, inplace=True)\n",
        "df.dropna(inplace=True)\n",
        "df"
      ],
      "execution_count": null,
      "outputs": [
        {
          "output_type": "execute_result",
          "data": {
            "text/html": [
              "<div>\n",
              "<style scoped>\n",
              "    .dataframe tbody tr th:only-of-type {\n",
              "        vertical-align: middle;\n",
              "    }\n",
              "\n",
              "    .dataframe tbody tr th {\n",
              "        vertical-align: top;\n",
              "    }\n",
              "\n",
              "    .dataframe thead th {\n",
              "        text-align: right;\n",
              "    }\n",
              "</style>\n",
              "<table border=\"1\" class=\"dataframe\">\n",
              "  <thead>\n",
              "    <tr style=\"text-align: right;\">\n",
              "      <th></th>\n",
              "      <th>GENDER</th>\n",
              "      <th>EDU_FATHER</th>\n",
              "      <th>EDU_MOTHER</th>\n",
              "      <th>OCC_FATHER</th>\n",
              "      <th>OCC_MOTHER</th>\n",
              "      <th>PEOPLE_HOUSE</th>\n",
              "      <th>INTERNET</th>\n",
              "      <th>TV</th>\n",
              "      <th>COMPUTER</th>\n",
              "      <th>WASHING_MCH</th>\n",
              "      <th>MIC_OVEN</th>\n",
              "      <th>CAR</th>\n",
              "      <th>PHONE</th>\n",
              "      <th>MOBILE</th>\n",
              "      <th>JOB</th>\n",
              "      <th>SCHOOL_NAT</th>\n",
              "      <th>SCHOOL_TYPE</th>\n",
              "      <th>MAT_S11</th>\n",
              "      <th>CR_S11</th>\n",
              "      <th>CC_S11</th>\n",
              "      <th>BIO_S11</th>\n",
              "      <th>ENG_S11</th>\n",
              "    </tr>\n",
              "  </thead>\n",
              "  <tbody>\n",
              "    <tr>\n",
              "      <th>0</th>\n",
              "      <td>F</td>\n",
              "      <td>Incomplete Professional Education</td>\n",
              "      <td>Complete technique or technology</td>\n",
              "      <td>Technical or professional level employee</td>\n",
              "      <td>Home</td>\n",
              "      <td>Three</td>\n",
              "      <td>Yes</td>\n",
              "      <td>Yes</td>\n",
              "      <td>Yes</td>\n",
              "      <td>Yes</td>\n",
              "      <td>No</td>\n",
              "      <td>No</td>\n",
              "      <td>Yes</td>\n",
              "      <td>Yes</td>\n",
              "      <td>No</td>\n",
              "      <td>PRIVATE</td>\n",
              "      <td>ACADEMIC</td>\n",
              "      <td>71</td>\n",
              "      <td>81</td>\n",
              "      <td>61</td>\n",
              "      <td>86</td>\n",
              "      <td>82</td>\n",
              "    </tr>\n",
              "    <tr>\n",
              "      <th>1</th>\n",
              "      <td>F</td>\n",
              "      <td>Complete Secundary</td>\n",
              "      <td>Complete professional education</td>\n",
              "      <td>Entrepreneur</td>\n",
              "      <td>Independent professional</td>\n",
              "      <td>Three</td>\n",
              "      <td>Yes</td>\n",
              "      <td>Yes</td>\n",
              "      <td>Yes</td>\n",
              "      <td>Yes</td>\n",
              "      <td>Yes</td>\n",
              "      <td>Yes</td>\n",
              "      <td>Yes</td>\n",
              "      <td>Yes</td>\n",
              "      <td>No</td>\n",
              "      <td>PRIVATE</td>\n",
              "      <td>ACADEMIC</td>\n",
              "      <td>83</td>\n",
              "      <td>75</td>\n",
              "      <td>66</td>\n",
              "      <td>100</td>\n",
              "      <td>88</td>\n",
              "    </tr>\n",
              "    <tr>\n",
              "      <th>2</th>\n",
              "      <td>M</td>\n",
              "      <td>Not sure</td>\n",
              "      <td>Not sure</td>\n",
              "      <td>Independent</td>\n",
              "      <td>Home</td>\n",
              "      <td>Five</td>\n",
              "      <td>No</td>\n",
              "      <td>No</td>\n",
              "      <td>Yes</td>\n",
              "      <td>Yes</td>\n",
              "      <td>No</td>\n",
              "      <td>No</td>\n",
              "      <td>Yes</td>\n",
              "      <td>No</td>\n",
              "      <td>Yes, 20 hours or more per week</td>\n",
              "      <td>PRIVATE</td>\n",
              "      <td>ACADEMIC</td>\n",
              "      <td>52</td>\n",
              "      <td>49</td>\n",
              "      <td>38</td>\n",
              "      <td>46</td>\n",
              "      <td>42</td>\n",
              "    </tr>\n",
              "    <tr>\n",
              "      <th>3</th>\n",
              "      <td>F</td>\n",
              "      <td>Not sure</td>\n",
              "      <td>Not sure</td>\n",
              "      <td>Other occupation</td>\n",
              "      <td>Independent</td>\n",
              "      <td>Three</td>\n",
              "      <td>Yes</td>\n",
              "      <td>Yes</td>\n",
              "      <td>Yes</td>\n",
              "      <td>Yes</td>\n",
              "      <td>Yes</td>\n",
              "      <td>No</td>\n",
              "      <td>Yes</td>\n",
              "      <td>Yes</td>\n",
              "      <td>No</td>\n",
              "      <td>PRIVATE</td>\n",
              "      <td>ACADEMIC</td>\n",
              "      <td>56</td>\n",
              "      <td>55</td>\n",
              "      <td>51</td>\n",
              "      <td>64</td>\n",
              "      <td>73</td>\n",
              "    </tr>\n",
              "    <tr>\n",
              "      <th>4</th>\n",
              "      <td>M</td>\n",
              "      <td>Complete professional education</td>\n",
              "      <td>Complete professional education</td>\n",
              "      <td>Executive</td>\n",
              "      <td>Home</td>\n",
              "      <td>One</td>\n",
              "      <td>Yes</td>\n",
              "      <td>Yes</td>\n",
              "      <td>Yes</td>\n",
              "      <td>Yes</td>\n",
              "      <td>No</td>\n",
              "      <td>Yes</td>\n",
              "      <td>Yes</td>\n",
              "      <td>Yes</td>\n",
              "      <td>No</td>\n",
              "      <td>PRIVATE</td>\n",
              "      <td>ACADEMIC</td>\n",
              "      <td>80</td>\n",
              "      <td>65</td>\n",
              "      <td>76</td>\n",
              "      <td>85</td>\n",
              "      <td>92</td>\n",
              "    </tr>\n",
              "    <tr>\n",
              "      <th>...</th>\n",
              "      <td>...</td>\n",
              "      <td>...</td>\n",
              "      <td>...</td>\n",
              "      <td>...</td>\n",
              "      <td>...</td>\n",
              "      <td>...</td>\n",
              "      <td>...</td>\n",
              "      <td>...</td>\n",
              "      <td>...</td>\n",
              "      <td>...</td>\n",
              "      <td>...</td>\n",
              "      <td>...</td>\n",
              "      <td>...</td>\n",
              "      <td>...</td>\n",
              "      <td>...</td>\n",
              "      <td>...</td>\n",
              "      <td>...</td>\n",
              "      <td>...</td>\n",
              "      <td>...</td>\n",
              "      <td>...</td>\n",
              "      <td>...</td>\n",
              "      <td>...</td>\n",
              "    </tr>\n",
              "    <tr>\n",
              "      <th>12406</th>\n",
              "      <td>M</td>\n",
              "      <td>Ninguno</td>\n",
              "      <td>Complete Secundary</td>\n",
              "      <td>Other occupation</td>\n",
              "      <td>Auxiliary or Administrative</td>\n",
              "      <td>Six</td>\n",
              "      <td>Yes</td>\n",
              "      <td>Yes</td>\n",
              "      <td>Yes</td>\n",
              "      <td>Yes</td>\n",
              "      <td>Yes</td>\n",
              "      <td>Yes</td>\n",
              "      <td>Yes</td>\n",
              "      <td>Yes</td>\n",
              "      <td>No</td>\n",
              "      <td>PRIVATE</td>\n",
              "      <td>ACADEMIC</td>\n",
              "      <td>67</td>\n",
              "      <td>69</td>\n",
              "      <td>70</td>\n",
              "      <td>67</td>\n",
              "      <td>81</td>\n",
              "    </tr>\n",
              "    <tr>\n",
              "      <th>12407</th>\n",
              "      <td>M</td>\n",
              "      <td>Complete professional education</td>\n",
              "      <td>Complete Secundary</td>\n",
              "      <td>Executive</td>\n",
              "      <td>Other occupation</td>\n",
              "      <td>Five</td>\n",
              "      <td>Yes</td>\n",
              "      <td>Yes</td>\n",
              "      <td>Yes</td>\n",
              "      <td>Yes</td>\n",
              "      <td>Yes</td>\n",
              "      <td>No</td>\n",
              "      <td>Yes</td>\n",
              "      <td>Yes</td>\n",
              "      <td>No</td>\n",
              "      <td>PUBLIC</td>\n",
              "      <td>ACADEMIC</td>\n",
              "      <td>58</td>\n",
              "      <td>57</td>\n",
              "      <td>61</td>\n",
              "      <td>63</td>\n",
              "      <td>53</td>\n",
              "    </tr>\n",
              "    <tr>\n",
              "      <th>12408</th>\n",
              "      <td>M</td>\n",
              "      <td>Complete technique or technology</td>\n",
              "      <td>Complete technique or technology</td>\n",
              "      <td>Retired</td>\n",
              "      <td>Home</td>\n",
              "      <td>Five</td>\n",
              "      <td>Yes</td>\n",
              "      <td>Yes</td>\n",
              "      <td>Yes</td>\n",
              "      <td>No</td>\n",
              "      <td>Yes</td>\n",
              "      <td>Yes</td>\n",
              "      <td>Yes</td>\n",
              "      <td>Yes</td>\n",
              "      <td>No</td>\n",
              "      <td>PRIVATE</td>\n",
              "      <td>ACADEMIC</td>\n",
              "      <td>66</td>\n",
              "      <td>69</td>\n",
              "      <td>75</td>\n",
              "      <td>70</td>\n",
              "      <td>58</td>\n",
              "    </tr>\n",
              "    <tr>\n",
              "      <th>12409</th>\n",
              "      <td>F</td>\n",
              "      <td>Complete professional education</td>\n",
              "      <td>Complete professional education</td>\n",
              "      <td>Independent professional</td>\n",
              "      <td>Small entrepreneur</td>\n",
              "      <td>Seven</td>\n",
              "      <td>Yes</td>\n",
              "      <td>Yes</td>\n",
              "      <td>Yes</td>\n",
              "      <td>Yes</td>\n",
              "      <td>Yes</td>\n",
              "      <td>Yes</td>\n",
              "      <td>Yes</td>\n",
              "      <td>Yes</td>\n",
              "      <td>No</td>\n",
              "      <td>PRIVATE</td>\n",
              "      <td>ACADEMIC</td>\n",
              "      <td>53</td>\n",
              "      <td>69</td>\n",
              "      <td>64</td>\n",
              "      <td>59</td>\n",
              "      <td>52</td>\n",
              "    </tr>\n",
              "    <tr>\n",
              "      <th>12410</th>\n",
              "      <td>M</td>\n",
              "      <td>Complete Secundary</td>\n",
              "      <td>Complete primary</td>\n",
              "      <td>Independent</td>\n",
              "      <td>Home</td>\n",
              "      <td>Four</td>\n",
              "      <td>No</td>\n",
              "      <td>No</td>\n",
              "      <td>No</td>\n",
              "      <td>No</td>\n",
              "      <td>No</td>\n",
              "      <td>No</td>\n",
              "      <td>Yes</td>\n",
              "      <td>Yes</td>\n",
              "      <td>No</td>\n",
              "      <td>PUBLIC</td>\n",
              "      <td>ACADEMIC</td>\n",
              "      <td>79</td>\n",
              "      <td>65</td>\n",
              "      <td>62</td>\n",
              "      <td>77</td>\n",
              "      <td>73</td>\n",
              "    </tr>\n",
              "  </tbody>\n",
              "</table>\n",
              "<p>12411 rows × 22 columns</p>\n",
              "</div>"
            ],
            "text/plain": [
              "      GENDER                         EDU_FATHER  ... BIO_S11 ENG_S11\n",
              "0          F  Incomplete Professional Education  ...      86      82\n",
              "1          F                 Complete Secundary  ...     100      88\n",
              "2          M                           Not sure  ...      46      42\n",
              "3          F                           Not sure  ...      64      73\n",
              "4          M    Complete professional education  ...      85      92\n",
              "...      ...                                ...  ...     ...     ...\n",
              "12406      M                            Ninguno  ...      67      81\n",
              "12407      M    Complete professional education  ...      63      53\n",
              "12408      M   Complete technique or technology  ...      70      58\n",
              "12409      F    Complete professional education  ...      59      52\n",
              "12410      M                 Complete Secundary  ...      77      73\n",
              "\n",
              "[12411 rows x 22 columns]"
            ]
          },
          "metadata": {
            "tags": []
          },
          "execution_count": 29
        }
      ]
    },
    {
      "cell_type": "markdown",
      "metadata": {
        "id": "pgYmo0SKtfhq"
      },
      "source": [
        "## Data Exploration: Features"
      ]
    },
    {
      "cell_type": "markdown",
      "metadata": {
        "id": "iKHN8khk0hql"
      },
      "source": [
        "### Gender"
      ]
    },
    {
      "cell_type": "code",
      "metadata": {
        "colab": {
          "base_uri": "https://localhost:8080/",
          "height": 281
        },
        "id": "1g4LNqFitin6",
        "outputId": "bcc72e12-f503-478c-e275-d4488c9e521f"
      },
      "source": [
        "# Gender distribution\n",
        "df['GENDER'].value_counts().plot(kind='bar')\n",
        "\n",
        "def count_male_female(df):\n",
        "  return len(df[df['GENDER'] == 'M']), len(df[df['GENDER'] == 'F'])\n",
        "\n",
        "print('M:', count_male_female(df)[0], \", F:\", count_male_female(df)[1])"
      ],
      "execution_count": null,
      "outputs": [
        {
          "output_type": "stream",
          "text": [
            "M: 7368 , F: 5043\n"
          ],
          "name": "stdout"
        },
        {
          "output_type": "display_data",
          "data": {
            "image/png": "[encoded data removed]",
            "text/plain": [
              "<Figure size 432x288 with 1 Axes>"
            ]
          },
          "metadata": {
            "tags": [],
            "needs_background": "light"
          }
        }
      ]
    },
    {
      "cell_type": "markdown",
      "metadata": {
        "id": "Ppx0m1zqu2pZ"
      },
      "source": [
        "Se puede ver claramente que se tienen más datos de alumnos hombres que mujeres. Es más, se tiene un exceso mayor a 2300 muestras."
      ]
    },
    {
      "cell_type": "markdown",
      "metadata": {
        "id": "ExGD5aJ70k12"
      },
      "source": [
        "### Parental Education"
      ]
    },
    {
      "cell_type": "code",
      "metadata": {
        "colab": {
          "base_uri": "https://localhost:8080/",
          "height": 460
        },
        "id": "2xRC1EIxvrry",
        "outputId": "faf57d20-b88e-45a2-fa9c-230db4510db0"
      },
      "source": [
        "# Father education distribution\n",
        "\n",
        "df.loc[df['EDU_FATHER'] == \"Ninguno\", \"EDU_FATHER\"] = \"None\"\n",
        "# We asumme 0 is no answer, so we drop it\n",
        "df.drop(df.loc[df['EDU_FATHER'] == 0].index, inplace=True)\n",
        "\n",
        "df['EDU_FATHER'].value_counts().plot(kind='bar')"
      ],
      "execution_count": null,
      "outputs": [
        {
          "output_type": "execute_result",
          "data": {
            "text/plain": [
              "<matplotlib.axes._subplots.AxesSubplot at 0x7faaf333d8d0>"
            ]
          },
          "metadata": {
            "tags": []
          },
          "execution_count": 31
        },
        {
          "output_type": "display_data",
          "data": {
            "image/png": "[encoded data removed]",
            "text/plain": [
              "<Figure size 432x288 with 1 Axes>"
            ]
          },
          "metadata": {
            "tags": [],
            "needs_background": "light"
          }
        }
      ]
    },
    {
      "cell_type": "markdown",
      "metadata": {
        "id": "8JtjU8ZByq0r"
      },
      "source": [
        "Se puede ver que la mayoría de los datos muestran padres con educación secundaria completa."
      ]
    },
    {
      "cell_type": "code",
      "metadata": {
        "colab": {
          "base_uri": "https://localhost:8080/",
          "height": 460
        },
        "id": "I87U0dwyyyjl",
        "outputId": "fbdb4f77-48cd-42d4-c916-b0a667049264"
      },
      "source": [
        "# Mother education distribution\n",
        "\n",
        "df.loc[df['EDU_MOTHER'] == \"Ninguno\", \"EDU_MOTHER\"] = \"None\"\n",
        "# We asumme 0 is no answer, so we drop it\n",
        "df.drop(df.loc[df['EDU_MOTHER'] == 0].index, inplace=True)\n",
        "\n",
        "df['EDU_MOTHER'].value_counts().plot(kind='bar')"
      ],
      "execution_count": null,
      "outputs": [
        {
          "output_type": "execute_result",
          "data": {
            "text/plain": [
              "<matplotlib.axes._subplots.AxesSubplot at 0x7faaf366e110>"
            ]
          },
          "metadata": {
            "tags": []
          },
          "execution_count": 33
        },
        {
          "output_type": "display_data",
          "data": {
            "image/png": "[encoded data removed]",
            "text/plain": [
              "<Figure size 432x288 with 1 Axes>"
            ]
          },
          "metadata": {
            "tags": [],
            "needs_background": "light"
          }
        }
      ]
    },
    {
      "cell_type": "markdown",
      "metadata": {
        "id": "zenFDOa2zXIY"
      },
      "source": [
        "Las madres de los alumnos de los datos, también en su mayoría cuentan con educación secundaria completa."
      ]
    },
    {
      "cell_type": "markdown",
      "metadata": {
        "id": "e6L6rlJ60paG"
      },
      "source": [
        "### Parental occupation"
      ]
    },
    {
      "cell_type": "code",
      "metadata": {
        "colab": {
          "base_uri": "https://localhost:8080/",
          "height": 475
        },
        "id": "HNYFt8lnzjfK",
        "outputId": "4dfdf3b5-d723-44e7-e02a-004c10c83f57"
      },
      "source": [
        "# Father occupation distribution\n",
        "df.drop(df.loc[df['OCC_FATHER'] == 0].index, inplace=True)\n",
        "\n",
        "df['OCC_FATHER'].value_counts().plot(kind='bar')"
      ],
      "execution_count": null,
      "outputs": [
        {
          "output_type": "execute_result",
          "data": {
            "text/plain": [
              "<matplotlib.axes._subplots.AxesSubplot at 0x7faaf37fe950>"
            ]
          },
          "metadata": {
            "tags": []
          },
          "execution_count": 35
        },
        {
          "output_type": "display_data",
          "data": {
            "image/png": "[encoded data removed]",
            "text/plain": [
              "<Figure size 432x288 with 1 Axes>"
            ]
          },
          "metadata": {
            "tags": [],
            "needs_background": "light"
          }
        }
      ]
    },
    {
      "cell_type": "code",
      "metadata": {
        "colab": {
          "base_uri": "https://localhost:8080/",
          "height": 474
        },
        "id": "JcxN-bVh0B2R",
        "outputId": "578bdef3-e1ff-41e1-af27-e252dc80d712"
      },
      "source": [
        "# Mother occupation distribution\n",
        "df.drop(df.loc[df['OCC_MOTHER'] == 0].index, inplace=True)\n",
        "\n",
        "df['OCC_MOTHER'].value_counts().plot(kind='bar')"
      ],
      "execution_count": null,
      "outputs": [
        {
          "output_type": "execute_result",
          "data": {
            "text/plain": [
              "<matplotlib.axes._subplots.AxesSubplot at 0x7faaf398e1d0>"
            ]
          },
          "metadata": {
            "tags": []
          },
          "execution_count": 36
        },
        {
          "output_type": "display_data",
          "data": {
            "image/png": "[encoded data removed]",
            "text/plain": [
              "<Figure size 432x288 with 1 Axes>"
            ]
          },
          "metadata": {
            "tags": [],
            "needs_background": "light"
          }
        }
      ]
    },
    {
      "cell_type": "markdown",
      "metadata": {
        "id": "DS8t377K0JlI"
      },
      "source": [
        "En este caso se ve una gran diferencia en la distribución de ocupación de los padres y las madres. Donde para los hombres, la última categoría es 'Home' que significa que trabajan de forma no remunerada en el hogar, minetras que para las mujeres es la ocupación más recurrente."
      ]
    },
    {
      "cell_type": "markdown",
      "metadata": {
        "id": "IxEkbPID0tZZ"
      },
      "source": [
        "### People living in the house"
      ]
    },
    {
      "cell_type": "code",
      "metadata": {
        "colab": {
          "base_uri": "https://localhost:8080/",
          "height": 285
        },
        "id": "tSe5RK0R0gHQ",
        "outputId": "75b3e7b0-c8d8-4210-acb5-d379cf80385a"
      },
      "source": [
        "dictionary = {'One': 1, 'Two': 2, 'Three': 3, 'Four': 4, 'Five': 5, 'Six': 6, 'Seven': 7, 'Eight': 8,\n",
        "       'Nueve': 9, 'Ten': 10, 'Once': 11, 'Twelve or more': 12}\n",
        "\n",
        "df.replace({'PEOPLE_HOUSE': dictionary}, inplace=True)\n",
        "df['PEOPLE_HOUSE'].value_counts().plot(kind='bar')"
      ],
      "execution_count": null,
      "outputs": [
        {
          "output_type": "execute_result",
          "data": {
            "text/plain": [
              "<matplotlib.axes._subplots.AxesSubplot at 0x7faaf3933ed0>"
            ]
          },
          "metadata": {
            "tags": []
          },
          "execution_count": 41
        },
        {
          "output_type": "display_data",
          "data": {
            "image/png": "[encoded data removed]",
            "text/plain": [
              "<Figure size 432x288 with 1 Axes>"
            ]
          },
          "metadata": {
            "tags": [],
            "needs_background": "light"
          }
        }
      ]
    },
    {
      "cell_type": "markdown",
      "metadata": {
        "id": "luQs2vom08qv"
      },
      "source": [
        "Se puede notar que en la mayoría de las muestras hay 3 o más personas viviendo en la casa. Aún así es menos recurrente que sean más de 6 personas. Hay casos extremos en que los alumnos viven solos o con 12 personas o más."
      ]
    },
    {
      "cell_type": "markdown",
      "metadata": {
        "id": "Q5YWKjcO2vog"
      },
      "source": [
        "### Internet Usage"
      ]
    },
    {
      "cell_type": "code",
      "metadata": {
        "colab": {
          "base_uri": "https://localhost:8080/",
          "height": 288
        },
        "id": "lgcR4MNK23kh",
        "outputId": "dc8cf975-d2c4-4ecd-c7db-80f79a76b915"
      },
      "source": [
        "df['INTERNET'].value_counts().plot(kind='bar')\n",
        "\n",
        "def have_internet(df):\n",
        "  return len(df[df['INTERNET'] == 'Yes']), len(df[df['INTERNET'] == 'No'])\n",
        "\n",
        "print(have_internet(df)[0], \"students have internet and\", have_internet(df)[1], \"don't\")"
      ],
      "execution_count": null,
      "outputs": [
        {
          "output_type": "stream",
          "text": [
            "8999 students have internet and 2450 don't\n"
          ],
          "name": "stdout"
        },
        {
          "output_type": "display_data",
          "data": {
            "image/png": "[encoded data removed]",
            "text/plain": [
              "<Figure size 432x288 with 1 Axes>"
            ]
          },
          "metadata": {
            "tags": [],
            "needs_background": "light"
          }
        }
      ]
    },
    {
      "cell_type": "markdown",
      "metadata": {
        "id": "VazQ_ujj28bZ"
      },
      "source": [
        "Hay muchos más estudiantes con acceso a internet que estudiantes que no lo tienen."
      ]
    },
    {
      "cell_type": "markdown",
      "metadata": {
        "id": "hsBss-QM3m-w"
      },
      "source": [
        "### TV"
      ]
    },
    {
      "cell_type": "code",
      "metadata": {
        "colab": {
          "base_uri": "https://localhost:8080/",
          "height": 288
        },
        "id": "Ht08iWg43sUy",
        "outputId": "db5ca86a-b823-46c2-f616-c2239b90a421"
      },
      "source": [
        "df['TV'].value_counts().plot(kind='bar')\n",
        "\n",
        "def have_tv(df):\n",
        "  return len(df[df['TV'] == 'Yes']), len(df[df['TV'] == 'No'])\n",
        "\n",
        "print(have_tv(df)[0], \"students have tv and\", have_tv(df)[1], \"don't\")"
      ],
      "execution_count": null,
      "outputs": [
        {
          "output_type": "stream",
          "text": [
            "9815 students have tv and 1634 don't\n"
          ],
          "name": "stdout"
        },
        {
          "output_type": "display_data",
          "data": {
            "image/png": "[encoded data removed]",
            "text/plain": [
              "<Figure size 432x288 with 1 Axes>"
            ]
          },
          "metadata": {
            "tags": [],
            "needs_background": "light"
          }
        }
      ]
    },
    {
      "cell_type": "markdown",
      "metadata": {
        "id": "CwaqGcsO4tNK"
      },
      "source": [
        "Se puede notar que también hay más estudiantes con TV que los que no tienen. Es más hay más alumnos que tienen tv que los que tienen internet."
      ]
    },
    {
      "cell_type": "markdown",
      "metadata": {
        "id": "NuUgSz5g4xsd"
      },
      "source": [
        "### Washing Machine"
      ]
    },
    {
      "cell_type": "code",
      "metadata": {
        "colab": {
          "base_uri": "https://localhost:8080/",
          "height": 288
        },
        "id": "TwrdNgfT42Ty",
        "outputId": "f3aaa194-bcc6-416c-a558-046aa03b2dd4"
      },
      "source": [
        "# WASHING_MCH\n",
        "\n",
        "df['WASHING_MCH'].value_counts().plot(kind='bar')\n",
        "\n",
        "def have_wm(df):\n",
        "  return len(df[df['WASHING_MCH'] == 'Yes']), len(df[df['WASHING_MCH'] == 'No'])\n",
        "\n",
        "print(have_wm(df)[0], \"students have a washing machine and\", have_wm(df)[1], \"don't\")"
      ],
      "execution_count": null,
      "outputs": [
        {
          "output_type": "stream",
          "text": [
            "6971 students have a washing machine and 4478 don't\n"
          ],
          "name": "stdout"
        },
        {
          "output_type": "display_data",
          "data": {
            "image/png": "[encoded data removed]",
            "text/plain": [
              "<Figure size 432x288 with 1 Axes>"
            ]
          },
          "metadata": {
            "tags": [],
            "needs_background": "light"
          }
        }
      ]
    },
    {
      "cell_type": "markdown",
      "metadata": {
        "id": "8TnSOHVV5T-8"
      },
      "source": [
        "En este caso la diferencia de alumnos no es tan abismal como con la televisión o el internet."
      ]
    },
    {
      "cell_type": "markdown",
      "metadata": {
        "id": "dwNa_3hK5ZQY"
      },
      "source": [
        "### Microwave oven"
      ]
    },
    {
      "cell_type": "code",
      "metadata": {
        "colab": {
          "base_uri": "https://localhost:8080/",
          "height": 288
        },
        "id": "u6QLJDl85gLr",
        "outputId": "39c7ca2e-8f96-42dc-cde2-ff8f06b7b4d2"
      },
      "source": [
        "# MIC_OVEN\n",
        "\n",
        "df['MIC_OVEN'].value_counts().plot(kind='bar')\n",
        "\n",
        "def have_mo(df):\n",
        "  return len(df[df['MIC_OVEN'] == 'Yes']), len(df[df['MIC_OVEN'] == 'No'])\n",
        "\n",
        "print(have_mo(df)[0], \"students have a microwave and\", have_mo(df)[1], \"don't\")"
      ],
      "execution_count": null,
      "outputs": [
        {
          "output_type": "stream",
          "text": [
            "8006 students have a microwave and 3443 don't\n"
          ],
          "name": "stdout"
        },
        {
          "output_type": "display_data",
          "data": {
            "image/png": "[encoded data removed]",
            "text/plain": [
              "<Figure size 432x288 with 1 Axes>"
            ]
          },
          "metadata": {
            "tags": [],
            "needs_background": "light"
          }
        }
      ]
    },
    {
      "cell_type": "markdown",
      "metadata": {
        "id": "_EwLnBQo5fCN"
      },
      "source": [
        "Nuevamente se nota que hay más alumnos que cuentan con microondas que los que no tienen."
      ]
    },
    {
      "cell_type": "markdown",
      "metadata": {
        "id": "nHfuPCYd55bN"
      },
      "source": [
        "### Car"
      ]
    },
    {
      "cell_type": "code",
      "metadata": {
        "colab": {
          "base_uri": "https://localhost:8080/",
          "height": 288
        },
        "id": "mzKmnnvD58qu",
        "outputId": "9f184ded-ce8f-46f1-9180-10017e2d05bf"
      },
      "source": [
        "df['CAR'].value_counts().plot(kind='bar')\n",
        "\n",
        "def have_car(df):\n",
        "  return len(df[df['CAR'] == 'Yes']), len(df[df['CAR'] == 'No'])\n",
        "\n",
        "print(have_car(df)[0], \"students have a car and\", have_car(df)[1], \"don't\")"
      ],
      "execution_count": null,
      "outputs": [
        {
          "output_type": "stream",
          "text": [
            "5321 students have a car and 6128 don't\n"
          ],
          "name": "stdout"
        },
        {
          "output_type": "display_data",
          "data": {
            "image/png": "[encoded data removed]",
            "text/plain": [
              "<Figure size 432x288 with 1 Axes>"
            ]
          },
          "metadata": {
            "tags": [],
            "needs_background": "light"
          }
        }
      ]
    },
    {
      "cell_type": "markdown",
      "metadata": {
        "id": "EnNP2t0i6HHI"
      },
      "source": [
        "En este caso, se nota que hay más alumnos que no cuentan con un auto que los que sí tienen."
      ]
    },
    {
      "cell_type": "markdown",
      "metadata": {
        "id": "CVJVKxCO6MPq"
      },
      "source": [
        "### Landline"
      ]
    },
    {
      "cell_type": "code",
      "metadata": {
        "colab": {
          "base_uri": "https://localhost:8080/",
          "height": 288
        },
        "id": "FU3VxRUQ6QjV",
        "outputId": "8acb7e10-8d03-45cd-fd9f-9567df0d65eb"
      },
      "source": [
        "df['PHONE'].value_counts().plot(kind='bar')\n",
        "\n",
        "def have_phone(df):\n",
        "  return len(df[df['PHONE'] == 'Yes']), len(df[df['PHONE'] == 'No'])\n",
        "\n",
        "print(have_phone(df)[0], \"students have a landline and\", have_phone(df)[1], \"don't\")"
      ],
      "execution_count": null,
      "outputs": [
        {
          "output_type": "stream",
          "text": [
            "10988 students have a landline and 461 don't\n"
          ],
          "name": "stdout"
        },
        {
          "output_type": "display_data",
          "data": {
            "image/png": "[encoded data removed]",
            "text/plain": [
              "<Figure size 432x288 with 1 Axes>"
            ]
          },
          "metadata": {
            "tags": [],
            "needs_background": "light"
          }
        }
      ]
    },
    {
      "cell_type": "markdown",
      "metadata": {
        "id": "MOCrJKRP6bF4"
      },
      "source": [
        "Casi todos los estudiantes cuentan con teléfono fijo"
      ]
    },
    {
      "cell_type": "markdown",
      "metadata": {
        "id": "N41d-AfH6g2p"
      },
      "source": [
        "### Cell phone"
      ]
    },
    {
      "cell_type": "code",
      "metadata": {
        "colab": {
          "base_uri": "https://localhost:8080/",
          "height": 288
        },
        "id": "_N_xWwqG6ygw",
        "outputId": "0abc278e-19f9-40a8-becb-1ebdb2fc7f9e"
      },
      "source": [
        "df['MOBILE'].value_counts().plot(kind='bar')\n",
        "\n",
        "def have_cell(df):\n",
        "  return len(df[df['MOBILE'] == 'Yes']), len(df[df['MOBILE'] == 'No'])\n",
        "\n",
        "print(have_cell(df)[0], \"students have a cell phone and\", have_cell(df)[1], \"don't\")"
      ],
      "execution_count": null,
      "outputs": [
        {
          "output_type": "stream",
          "text": [
            "8134 students have a cell phone and 3315 don't\n"
          ],
          "name": "stdout"
        },
        {
          "output_type": "display_data",
          "data": {
            "image/png": "[encoded data removed]",
            "text/plain": [
              "<Figure size 432x288 with 1 Axes>"
            ]
          },
          "metadata": {
            "tags": [],
            "needs_background": "light"
          }
        }
      ]
    },
    {
      "cell_type": "markdown",
      "metadata": {
        "id": "Di1q1b3e7JAb"
      },
      "source": [
        "Nuevamnete,la mayor parte de los estudiante cuenta con un celular."
      ]
    },
    {
      "cell_type": "markdown",
      "metadata": {
        "id": "oiryPyBZ7JmC"
      },
      "source": [
        "### Job"
      ]
    },
    {
      "cell_type": "code",
      "metadata": {
        "colab": {
          "base_uri": "https://localhost:8080/",
          "height": 436
        },
        "id": "x-bmR8JD7Nyl",
        "outputId": "8ec91836-b49c-47e4-978d-d24f6ff591fe"
      },
      "source": [
        "df.drop(df.loc[df['JOB'] == 0].index, inplace=True)\n",
        "\n",
        "df['JOB'].value_counts().plot(kind='bar')"
      ],
      "execution_count": null,
      "outputs": [
        {
          "output_type": "execute_result",
          "data": {
            "text/plain": [
              "<matplotlib.axes._subplots.AxesSubplot at 0x7faaed46b250>"
            ]
          },
          "metadata": {
            "tags": []
          },
          "execution_count": 60
        },
        {
          "output_type": "display_data",
          "data": {
            "image/png": "[encoded data removed]",
            "text/plain": [
              "<Figure size 432x288 with 1 Axes>"
            ]
          },
          "metadata": {
            "tags": [],
            "needs_background": "light"
          }
        }
      ]
    },
    {
      "cell_type": "markdown",
      "metadata": {
        "id": "hOqchGky7oe0"
      },
      "source": [
        "En estos datos, la mayoría de los alumnos no tienen trabajo, pero pocos casos en que trabajan menos de 20 horas y son aún más escasos los que trabajan más de 20 horas."
      ]
    },
    {
      "cell_type": "markdown",
      "metadata": {
        "id": "X6Tp1pHM70oN"
      },
      "source": [
        "### Private or public school"
      ]
    },
    {
      "cell_type": "code",
      "metadata": {
        "colab": {
          "base_uri": "https://localhost:8080/",
          "height": 313
        },
        "id": "6jyOocSV77WS",
        "outputId": "3ae13f3b-6d3c-42fb-9a7d-fce009c2fa9d"
      },
      "source": [
        "# SCHOOL_NAT\n",
        "\n",
        "df['SCHOOL_NAT'].value_counts().plot(kind='bar')\n",
        "\n",
        "def private_or_public(df):\n",
        "  return len(df[df['SCHOOL_NAT'] == 'PRIVATE']), len(df[df['SCHOOL_NAT'] == 'PUBLIC'])\n",
        "\n",
        "print(private_or_public(df)[0], 'students go to priivate school and', private_or_public(df)[1], 'go to public school')"
      ],
      "execution_count": null,
      "outputs": [
        {
          "output_type": "stream",
          "text": [
            "5936 students go to priivate school and 5509 go to public school\n"
          ],
          "name": "stdout"
        },
        {
          "output_type": "display_data",
          "data": {
            "image/png": "[encoded data removed]",
            "text/plain": [
              "<Figure size 432x288 with 1 Axes>"
            ]
          },
          "metadata": {
            "tags": [],
            "needs_background": "light"
          }
        }
      ]
    },
    {
      "cell_type": "markdown",
      "metadata": {
        "id": "Fl_f6Jll8c_M"
      },
      "source": [
        "Hay una mayor cantidad de alumnos que asisten a instituciones privadas, pero aún así la distribución es muy similar."
      ]
    },
    {
      "cell_type": "markdown",
      "metadata": {
        "id": "EsTzCVXs8qHX"
      },
      "source": [
        "### Type of school"
      ]
    },
    {
      "cell_type": "code",
      "metadata": {
        "colab": {
          "base_uri": "https://localhost:8080/",
          "height": 385
        },
        "id": "60545s1x8rzQ",
        "outputId": "67db2d88-30cb-4255-948f-6e8e0f699bdf"
      },
      "source": [
        "# SCHOOL_TYPE\n",
        "\n",
        "df.drop(df.loc[df['SCHOOL_TYPE'] == 'Not apply'].index, inplace=True)\n",
        "\n",
        "df['SCHOOL_TYPE'].value_counts().plot(kind='bar')"
      ],
      "execution_count": null,
      "outputs": [
        {
          "output_type": "execute_result",
          "data": {
            "text/plain": [
              "<matplotlib.axes._subplots.AxesSubplot at 0x7faaed6be9d0>"
            ]
          },
          "metadata": {
            "tags": []
          },
          "execution_count": 64
        },
        {
          "output_type": "display_data",
          "data": {
            "image/png": "[encoded data removed]",
            "text/plain": [
              "<Figure size 432x288 with 1 Axes>"
            ]
          },
          "metadata": {
            "tags": [],
            "needs_background": "light"
          }
        }
      ]
    },
    {
      "cell_type": "markdown",
      "metadata": {
        "id": "niUXeq7x89Xg"
      },
      "source": [
        "Por otra parte, los datos contienen una mayor muestra de instituciones académicos"
      ]
    },
    {
      "cell_type": "markdown",
      "metadata": {
        "id": "CboLRn2m9SlM"
      },
      "source": [
        "## Data Exploration: Targets"
      ]
    },
    {
      "cell_type": "code",
      "metadata": {
        "colab": {
          "base_uri": "https://localhost:8080/",
          "height": 502
        },
        "id": "y3_ZiVOz-lzF",
        "outputId": "51ac03a3-99e5-4f06-cc1c-f900e35458c8"
      },
      "source": [
        "subjects = ['MAT_S11', 'CR_S11', 'CC_S11', 'BIO_S11', 'ENG_S11']\n",
        "\n",
        "for s in subjects:\n",
        "  sub = df[s]\n",
        "  sns.distplot(sub, hist = False, kde = True, label = s)\n",
        "\n",
        "plt.legend(prop={'size': 16}, title = 'Subject')\n",
        "plt.title('Density Plot of subject scores')\n",
        "plt.xlabel('Score')\n",
        "plt.ylabel('Density')"
      ],
      "execution_count": null,
      "outputs": [
        {
          "output_type": "stream",
          "text": [
            "/usr/local/lib/python3.7/dist-packages/seaborn/distributions.py:2557: FutureWarning: `distplot` is a deprecated function and will be removed in a future version. Please adapt your code to use either `displot` (a figure-level function with similar flexibility) or `kdeplot` (an axes-level function for kernel density plots).\n",
            "  warnings.warn(msg, FutureWarning)\n",
            "/usr/local/lib/python3.7/dist-packages/seaborn/distributions.py:2557: FutureWarning: `distplot` is a deprecated function and will be removed in a future version. Please adapt your code to use either `displot` (a figure-level function with similar flexibility) or `kdeplot` (an axes-level function for kernel density plots).\n",
            "  warnings.warn(msg, FutureWarning)\n",
            "/usr/local/lib/python3.7/dist-packages/seaborn/distributions.py:2557: FutureWarning: `distplot` is a deprecated function and will be removed in a future version. Please adapt your code to use either `displot` (a figure-level function with similar flexibility) or `kdeplot` (an axes-level function for kernel density plots).\n",
            "  warnings.warn(msg, FutureWarning)\n",
            "/usr/local/lib/python3.7/dist-packages/seaborn/distributions.py:2557: FutureWarning: `distplot` is a deprecated function and will be removed in a future version. Please adapt your code to use either `displot` (a figure-level function with similar flexibility) or `kdeplot` (an axes-level function for kernel density plots).\n",
            "  warnings.warn(msg, FutureWarning)\n",
            "/usr/local/lib/python3.7/dist-packages/seaborn/distributions.py:2557: FutureWarning: `distplot` is a deprecated function and will be removed in a future version. Please adapt your code to use either `displot` (a figure-level function with similar flexibility) or `kdeplot` (an axes-level function for kernel density plots).\n",
            "  warnings.warn(msg, FutureWarning)\n"
          ],
          "name": "stderr"
        },
        {
          "output_type": "execute_result",
          "data": {
            "text/plain": [
              "Text(0, 0.5, 'Density')"
            ]
          },
          "metadata": {
            "tags": []
          },
          "execution_count": 75
        },
        {
          "output_type": "display_data",
          "data": {
            "image/png": "[encoded data removed]",
            "text/plain": [
              "<Figure size 432x288 with 1 Axes>"
            ]
          },
          "metadata": {
            "tags": [],
            "needs_background": "light"
          }
        }
      ]
    },
    {
      "cell_type": "markdown",
      "metadata": {
        "id": "m6I1-UAjAhj9"
      },
      "source": [
        "Se puede ver que existen asignaturas en que tiende a haber un mejor resultado en estos datos, como biología, mientras que el peor promedio de notas se tiene en inglés, que corresponde a la segunda lengua enseñada."
      ]
    }
  ]
}